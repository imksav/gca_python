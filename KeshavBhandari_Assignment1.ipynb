{
  "nbformat": 4,
  "nbformat_minor": 0,
  "metadata": {
    "colab": {
      "name": "KeshavBhandari_Assignment1.ipynb",
      "provenance": [],
      "collapsed_sections": [],
      "authorship_tag": "ABX9TyNhvtwAZnpy6ivd3P1Bu4mm",
      "include_colab_link": true
    },
    "kernelspec": {
      "name": "python3",
      "display_name": "Python 3"
    }
  },
  "cells": [
    {
      "cell_type": "markdown",
      "metadata": {
        "id": "view-in-github",
        "colab_type": "text"
      },
      "source": [
        "<a href=\"https://colab.research.google.com/github/imksav/gca_python/blob/master/KeshavBhandari_Assignment1.ipynb\" target=\"_parent\"><img src=\"https://colab.research.google.com/assets/colab-badge.svg\" alt=\"Open In Colab\"/></a>"
      ]
    },
    {
      "cell_type": "code",
      "metadata": {
        "id": "bl1UK4C0OBSi"
      },
      "source": [
        "Book :- Author :- Mark Lutz<br>\r\n",
        "<br>\r\n",
        "Learning Python 5th Edition O'Reilly<br>\r\n",
        "Python Cookbook David Beazley O'Reilly<br>\r\n",
        "Link:-<br>\r\n",
        "<br>\r\n",
        "http://www.cs.uni.edu/~fienup/cs051f10/lectures/ <br>\r\n",
        "https://github.com/MrAlex6204/Books/blob/master/Learning%20Python%2C%205th%20Edition.pdf <br>\r\n",
        "https://github.com/tomarraj008/data_books/blob/master/Python%20Cookbook%2C%203rd%20Edition.pdf <br>\r\n"
      ],
      "execution_count": null,
      "outputs": []
    },
    {
      "cell_type": "markdown",
      "metadata": {
        "id": "Mra7xWnbOqbZ"
      },
      "source": [
        "First Week Assignment\r\n",
        "\r\n",
        "Test Your Knowledge: Quiz\r\n",
        "\r\n",
        "What are the six main reasons that people choose to use Python?<br>\r\n",
        "Name four notable companies or organizations using Python today.<br>\r\n",
        "Why might you not want to use Python in an application?<br>\r\n",
        "What can you do with Python?<br>\r\n",
        "What’s the significance of the Python import this statement?<br>\r\n",
        "Why does “spam” show up in so many Python examples in books and on the Web?<br>\r\n",
        "What is your favorite color?<br>\r\n",
        "Test Your Knowledge: Quiz<br>\r\n",
        "<br>\r\n",
        "What is the Python interpreter?<br>\r\n",
        "What is source code?<br>\r\n",
        "What is byte code?<br>\r\n",
        "What is the PVM?<br>\r\n",
        "Name two or more variations on Python’s standard execution model.<br>\r\n",
        "How are CPython, Jython, and IronPython different?<br>\r\n",
        "What are Stackless and PyPy?<br>\r\n",
        "Test Your Knowledge: Quiz<br>\r\n",
        "<br>\r\n",
        "How can you start an interactive interpreter session?<br>\r\n",
        "Where do you type a system command line to launch a script file?<br>\r\n",
        "Name four or more ways to run the code saved in a script file.<br>\r\n",
        "Name two pitfalls related to clicking file icons on Windows.<br>\r\n",
        "Why might you need to reload a module?<br>\r\n",
        "How do you run a script from within IDLE?<br>\r\n",
        "Name two pitfalls related to using IDLE.<br>\r\n",
        "What is a namespace, and how does it relate to module files?<br>\r\n",
        "Test Your Knowledge: Quiz<br>\r\n",
        "<br>\r\n",
        "Name four of Python’s core data types.<br>\r\n",
        "Why are they called “core” data types?<br>\r\n",
        "What does “immutable” mean, and which three of Python’s core types are considered immutable?<br>\r\n",
        "What does “sequence” mean, and which three types fall into that category?<br>\r\n",
        "What does “mapping” mean, and which core type is a mapping?<br>\r\n",
        "What is “polymorphism,” and why should you care?<br>"
      ]
    },
    {
      "cell_type": "markdown",
      "metadata": {
        "id": "mgbf1jbaOvC3"
      },
      "source": [
        "**Projects:-**"
      ]
    },
    {
      "cell_type": "markdown",
      "metadata": {
        "id": "FH0xpa_UO3sd"
      },
      "source": [
        "1. Open a Python shell, enter the following expressions, and observe the results:<br>\r\n",
        "a. 8<br>\r\n",
        "b. 8 * 2<br>\r\n",
        "c. 8 ** 2<br>\r\n",
        "d. 8/12<br>\r\n",
        "e. 8 // 12<br>\r\n",
        "f. 8/0<br>"
      ]
    },
    {
      "cell_type": "code",
      "metadata": {
        "colab": {
          "base_uri": "https://localhost:8080/"
        },
        "id": "Qhf0TtTEO9tX",
        "outputId": "8666dce3-7236-481e-a888-a5db83bd8473"
      },
      "source": [
        "8"
      ],
      "execution_count": null,
      "outputs": [
        {
          "output_type": "execute_result",
          "data": {
            "text/plain": [
              "8"
            ]
          },
          "metadata": {
            "tags": []
          },
          "execution_count": 1
        }
      ]
    },
    {
      "cell_type": "code",
      "metadata": {
        "colab": {
          "base_uri": "https://localhost:8080/"
        },
        "id": "4TflMICdQqyn",
        "outputId": "f25cb294-3255-4a0d-f2ee-35d6ee3a836e"
      },
      "source": [
        "8*2"
      ],
      "execution_count": null,
      "outputs": [
        {
          "output_type": "execute_result",
          "data": {
            "text/plain": [
              "16"
            ]
          },
          "metadata": {
            "tags": []
          },
          "execution_count": 2
        }
      ]
    },
    {
      "cell_type": "code",
      "metadata": {
        "colab": {
          "base_uri": "https://localhost:8080/"
        },
        "id": "GxOx1sXcQseT",
        "outputId": "a98d7c3c-316c-4b89-c37b-2be4e8be8e90"
      },
      "source": [
        "8**2"
      ],
      "execution_count": null,
      "outputs": [
        {
          "output_type": "execute_result",
          "data": {
            "text/plain": [
              "64"
            ]
          },
          "metadata": {
            "tags": []
          },
          "execution_count": 3
        }
      ]
    },
    {
      "cell_type": "code",
      "metadata": {
        "colab": {
          "base_uri": "https://localhost:8080/"
        },
        "id": "D5YbZmp9QuNP",
        "outputId": "0a2e50fe-025d-4749-fa3d-6f7319d13acb"
      },
      "source": [
        "8/12"
      ],
      "execution_count": null,
      "outputs": [
        {
          "output_type": "execute_result",
          "data": {
            "text/plain": [
              "0.6666666666666666"
            ]
          },
          "metadata": {
            "tags": []
          },
          "execution_count": 4
        }
      ]
    },
    {
      "cell_type": "code",
      "metadata": {
        "colab": {
          "base_uri": "https://localhost:8080/"
        },
        "id": "KytE00DHQwOj",
        "outputId": "ada21218-d623-44bb-8fa4-c2e47082edb0"
      },
      "source": [
        "8//12"
      ],
      "execution_count": null,
      "outputs": [
        {
          "output_type": "execute_result",
          "data": {
            "text/plain": [
              "0"
            ]
          },
          "metadata": {
            "tags": []
          },
          "execution_count": 5
        }
      ]
    },
    {
      "cell_type": "code",
      "metadata": {
        "colab": {
          "base_uri": "https://localhost:8080/",
          "height": 162
        },
        "id": "kF9bY71xQyn8",
        "outputId": "48ea7c20-350c-4227-ca8f-c79fac478c2d"
      },
      "source": [
        "8/0"
      ],
      "execution_count": null,
      "outputs": [
        {
          "output_type": "error",
          "ename": "ZeroDivisionError",
          "evalue": "ignored",
          "traceback": [
            "\u001b[0;31m---------------------------------------------------------------------------\u001b[0m",
            "\u001b[0;31mZeroDivisionError\u001b[0m                         Traceback (most recent call last)",
            "\u001b[0;32m<ipython-input-6-b75faf41dc75>\u001b[0m in \u001b[0;36m<module>\u001b[0;34m()\u001b[0m\n\u001b[0;32m----> 1\u001b[0;31m \u001b[0;36m8\u001b[0m\u001b[0;34m/\u001b[0m\u001b[0;36m0\u001b[0m\u001b[0;34m\u001b[0m\u001b[0;34m\u001b[0m\u001b[0m\n\u001b[0m",
            "\u001b[0;31mZeroDivisionError\u001b[0m: division by zero"
          ]
        }
      ]
    },
    {
      "cell_type": "markdown",
      "metadata": {
        "id": "Kf5rlz-QQ3J-"
      },
      "source": [
        "2. Write a Python program that prints (displays) your name, address, and telephone number."
      ]
    },
    {
      "cell_type": "code",
      "metadata": {
        "colab": {
          "base_uri": "https://localhost:8080/"
        },
        "id": "qcenrMMjQ68u",
        "outputId": "c27ea979-b80c-4b21-cb74-bb1f771f602c"
      },
      "source": [
        "name = input(\"Enter your name:\")\r\n",
        "address = input(\"Enter your address:\")\r\n",
        "tel = int(input(\"Enter your telephone number:\"))\r\n",
        "print(\"My name is\", name)\r\n",
        "print(\"I live in\",address)\r\n",
        "print(\"You can contact me at\", tel)"
      ],
      "execution_count": null,
      "outputs": [
        {
          "output_type": "stream",
          "text": [
            "Enter your name:KESHAV BHANDARI\n",
            "Enter your address:Basundhara Dol, Tokha - 5\n",
            "Enter your telephone number:9823872337\n",
            "My name is KESHAV BHANDARI\n",
            "I live in Basundhara Dol, Tokha - 5\n",
            "You can contact me at 9823872337\n"
          ],
          "name": "stdout"
        }
      ]
    },
    {
      "cell_type": "markdown",
      "metadata": {
        "id": "RoqHwHrZREMu"
      },
      "source": [
        "3. Evaluate the following code at a shell prompt: print(\"Your name is\", name). Then assign name an appropriate value, and evaluate the statement again."
      ]
    },
    {
      "cell_type": "code",
      "metadata": {
        "colab": {
          "base_uri": "https://localhost:8080/"
        },
        "id": "Ai0LCNdlRHmI",
        "outputId": "73a58555-1867-4dd0-f696-a9c194385b6d"
      },
      "source": [
        "print(\"Your name is\", name)\r\n",
        "name = input(\"Enter your name:\")\r\n",
        "print(\"Your name is\", name)"
      ],
      "execution_count": null,
      "outputs": [
        {
          "output_type": "stream",
          "text": [
            "Your name is KESHAV BHANDARI\n",
            "Enter your name:Keshav Bhandari\n",
            "Your name is Keshav Bhandari\n"
          ],
          "name": "stdout"
        }
      ]
    },
    {
      "cell_type": "markdown",
      "metadata": {
        "id": "fOHEgpFHRIRd"
      },
      "source": [
        "4. Write and test a program that accepts the user's name(as text) and age(as a number) as input. The program should output a sentense containing the user's name and age."
      ]
    },
    {
      "cell_type": "code",
      "metadata": {
        "colab": {
          "base_uri": "https://localhost:8080/"
        },
        "id": "SCMQ-dEDRLVD",
        "outputId": "136a6888-7724-4af0-eb42-2fe597704554"
      },
      "source": [
        "name = str(input(\"Enter your name:\"))\r\n",
        "age = int(input(\"Enter your age:\"))\r\n",
        "print(\"Your name is \"+name+\". Your age is \"+str(age)+\".\")"
      ],
      "execution_count": null,
      "outputs": [
        {
          "output_type": "stream",
          "text": [
            "Enter your name:Keshav Bhandari\n",
            "Enter your age:21\n",
            "Your name is Keshav Bhandari. Your age is 21.\n"
          ],
          "name": "stdout"
        }
      ]
    },
    {
      "cell_type": "markdown",
      "metadata": {
        "id": "f3nOHeRpRLoB"
      },
      "source": [
        "5. Write and test a program that computes the area of a circle. This program should request a number representing  a radius as input from the user. It should use the formula 3.14*radius**2 to compute the area and then output this result suitably labeled."
      ]
    },
    {
      "cell_type": "code",
      "metadata": {
        "colab": {
          "base_uri": "https://localhost:8080/"
        },
        "id": "xSA83-UkROPK",
        "outputId": "9eb34d77-31c2-4399-eb86-13ea1035820c"
      },
      "source": [
        "Pie = float(3.14)\r\n",
        "print(\"Given\\nPie=\"+str(3.14)+\",Radius=?\")\r\n",
        "radius = float(input(\"Enter the radius of the circle:\"))\r\n",
        "mainArea = float(Pie*radius**2)\r\n",
        "wrongArea = float(Pie*radius*2)\r\n",
        "print(\"Area of the circle is: \")\r\n",
        "print(mainArea)\r\n",
        "print(\"Area of the circle with wrong formula(as given in question) is: \")\r\n",
        "print(wrongArea)"
      ],
      "execution_count": null,
      "outputs": [
        {
          "output_type": "stream",
          "text": [
            "Given\n",
            "Pie=3.14,Radius=?\n",
            "Enter the radius of the circle:3\n",
            "Area of the circle is: \n",
            "28.26\n",
            "Area of the circle with wrong formula(as given in question) is: \n",
            "18.84\n"
          ],
          "name": "stdout"
        }
      ]
    },
    {
      "cell_type": "markdown",
      "metadata": {
        "id": "0gzrlYFCROo5"
      },
      "source": [
        "6. Enter an input statement using the input function at the shll prompt. When the prompt asks you for input, enter a number. Then, attempt to add 1 to that number, observe the results and explain what happened."
      ]
    },
    {
      "cell_type": "code",
      "metadata": {
        "colab": {
          "base_uri": "https://localhost:8080/"
        },
        "id": "TUjjBBc6RRVf",
        "outputId": "19ae965d-8295-4e90-e13a-e618875b7734"
      },
      "source": [
        "num = int(input(\"Enter a number:\"))\r\n",
        "result=num+1\r\n",
        "print(result)\r\n",
        "# explaination:\r\n",
        "# entered number is increased by 1 in result and get printed."
      ],
      "execution_count": null,
      "outputs": [
        {
          "output_type": "stream",
          "text": [
            "Enter a number:4\n",
            "5\n"
          ],
          "name": "stdout"
        }
      ]
    },
    {
      "cell_type": "markdown",
      "metadata": {
        "id": "D8LXh8iPRSA2"
      },
      "source": [
        "7. Enter the expression help() at the shell prompt. Follow the instructions to browse the topics and modules."
      ]
    },
    {
      "cell_type": "code",
      "metadata": {
        "colab": {
          "base_uri": "https://localhost:8080/"
        },
        "id": "yjScAm7lRU3H",
        "outputId": "d5e7ec5e-1c9a-47ac-b4c0-da39fc09029f"
      },
      "source": [
        "help()"
      ],
      "execution_count": null,
      "outputs": [
        {
          "output_type": "stream",
          "text": [
            "\n",
            "Welcome to Python 3.7's help utility!\n",
            "\n",
            "If this is your first time using Python, you should definitely check out\n",
            "the tutorial on the Internet at https://docs.python.org/3.7/tutorial/.\n",
            "\n",
            "Enter the name of any module, keyword, or topic to get help on writing\n",
            "Python programs and using Python modules.  To quit this help utility and\n",
            "return to the interpreter, just type \"quit\".\n",
            "\n",
            "To get a list of available modules, keywords, symbols, or topics, type\n",
            "\"modules\", \"keywords\", \"symbols\", or \"topics\".  Each module also comes\n",
            "with a one-line summary of what it does; to list the modules whose name\n",
            "or summary contain a given string such as \"spam\", type \"modules spam\".\n",
            "\n",
            "help> modules\n",
            "\n",
            "Please wait a moment while I gather a list of all available modules...\n",
            "\n",
            "Cython              colorsys            kapre               quopri\n",
            "IPython             community           keras               random\n",
            "OpenGL              compileall          keras_preprocessing re\n",
            "PIL                 concurrent          keyword             readline\n",
            "ScreenResolution    configparser        kiwisolver          regex\n",
            "__future__          contextlib          knnimpute           reprlib\n",
            "_abc                contextlib2         korean_lunar_calendar requests\n",
            "_ast                contextvars         lib2to3             requests_oauthlib\n",
            "_asyncio            convertdate         libfuturize         resampy\n",
            "_bisect             copy                libpasteurize       resource\n",
            "_blake2             copyreg             librosa             retrying\n",
            "_bootlocale         coverage            lightgbm            rlcompleter\n",
            "_bz2                coveralls           linecache           rmagic\n",
            "_cffi_backend       crcmod              llvmlite            rpy2\n",
            "_codecs             crypt               lmdb                rsa\n",
            "_codecs_cn          csv                 locale              runpy\n",
            "_codecs_hk          ctypes              logging             samples\n",
            "_codecs_iso2022     cufflinks           lsb_release         sched\n",
            "_codecs_jp          curses              lucid               scipy\n",
            "_codecs_kr          cv2                 lunarcalendar       scs\n",
            "_codecs_tw          cvxopt              lxml                seaborn\n",
            "_collections        cvxpy               lzma                secrets\n",
            "_collections_abc    cycler              macpath             select\n",
            "_compat_pickle      cymem               mailbox             selectors\n",
            "_compression        cython              mailcap             send2trash\n",
            "_contextvars        cythonmagic         markdown            setuptools\n",
            "_crypt              daft                markupsafe          setuptools_git\n",
            "_csv                dask                marshal             shapely\n",
            "_ctypes             dataclasses         math                shelve\n",
            "_ctypes_test        datascience         matplotlib          shlex\n",
            "_curses             datetime            matplotlib_venn     shutil\n",
            "_curses_panel       dateutil            mimetypes           signal\n",
            "_cvxcore            dbm                 missingno           simplegeneric\n",
            "_datetime           dbus                mistune             site\n",
            "_dbm                debugpy             mizani              sitecustomize\n",
            "_decimal            decimal             mlxtend             six\n",
            "_distutils_hack     decorator           mmap                skimage\n",
            "_dummy_thread       defusedxml          modulefinder        sklearn\n",
            "_ecos               descartes           more_itertools      sklearn_pandas\n",
            "_elementtree        difflib             moviepy             slugify\n",
            "_functools          dill                mpmath              smart_open\n",
            "_hashlib            dis                 msgpack             smtpd\n",
            "_heapq              distributed         multiprocess        smtplib\n",
            "_imp                distutils           multiprocessing     sndhdr\n",
            "_io                 django              multitasking        snowballstemmer\n",
            "_json               dlib                murmurhash          socket\n",
            "_locale             docopt              music21             socketserver\n",
            "_lsprof             docs                natsort             socks\n",
            "_lzma               doctest             nbclient            sockshandler\n",
            "_markupbase         docutils            nbconvert           softwareproperties\n",
            "_md5                dopamine            nbformat            sortedcontainers\n",
            "_multibytecodec     dot_parser          nest_asyncio        soundfile\n",
            "_multiprocess       dummy_threading     netrc               spacy\n",
            "_multiprocessing    easydict            networkx            sphinx\n",
            "_opcode             ecos                nibabel             spwd\n",
            "_operator           editdistance        nis                 sql\n",
            "_osx_support        ee                  nisext              sqlalchemy\n",
            "_pickle             email               nltk                sqlite3\n",
            "_plotly_future_     en_core_web_sm      nntplib             sqlparse\n",
            "_plotly_utils       encodings           notebook            sre_compile\n",
            "_posixsubprocess    entrypoints         np_utils            sre_constants\n",
            "_py_abc             enum                ntpath              sre_parse\n",
            "_pydecimal          ephem               nturl2path          srsly\n",
            "_pyio               erfa                numba               ssl\n",
            "_pyrsistent_version errno               numbergen           stat\n",
            "_pytest             et_xmlfile          numbers             statistics\n",
            "_queue              examples            numexpr             statsmodels\n",
            "_random             fa2                 numpy               storemagic\n",
            "_remote_module_non_sriptable fancyimpute         nvidia_smi          string\n",
            "_rinterface_cffi_abi fastai              oauth2client        stringprep\n",
            "_rinterface_cffi_api fastdtw             oauthlib            struct\n",
            "_scs_direct         fastprogress        ogr                 subprocess\n",
            "_scs_indirect       fastrlock           okgrade             sunau\n",
            "_scs_python         faulthandler        onnx_chainer        symbol\n",
            "_sha1               fbprophet           opcode              sympy\n",
            "_sha256             fcntl               openpyxl            sympyprinting\n",
            "_sha3               feather             operator            symtable\n",
            "_sha512             filecmp             opt_einsum          sys\n",
            "_signal             fileinput           optparse            sysconfig\n",
            "_sitebuiltins       filelock            os                  syslog\n",
            "_socket             firebase_admin      osgeo               tables\n",
            "_soundfile          fix_yahoo_finance   osqp                tabnanny\n",
            "_sqlite3            flask               osqppurepy          tabulate\n",
            "_sre                flatbuffers         osr                 tarfile\n",
            "_ssl                fnmatch             ossaudiodev         tblib\n",
            "_stat               folium              packaging           telnetlib\n",
            "_string             formatter           palettable          tempfile\n",
            "_strptime           fractions           pandas              tensorboard\n",
            "_struct             ftplib              pandas_datareader   tensorboard_plugin_wit\n",
            "_symtable           functools           pandas_gbq          tensorflow\n",
            "_sysconfigdata_m_linux_x86_64-linux-gnu future              pandas_profiling    tensorflow_datasets\n",
            "_testbuffer         gast                pandocfilters       tensorflow_estimator\n",
            "_testcapi           gc                  panel               tensorflow_gcs_config\n",
            "_testimportmultiple gdal                param               tensorflow_hub\n",
            "_testmultiphase     gdalconst           parser              tensorflow_metadata\n",
            "_thread             gdalnumeric         parso               tensorflow_probability\n",
            "_threading_local    gdown               past                termcolor\n",
            "_tkinter            genericpath         pasta               terminado\n",
            "_tracemalloc        gensim              pathlib             termios\n",
            "_warnings           geographiclib       patsy               test\n",
            "_weakref            geopy               pdb                 testpath\n",
            "_weakrefset         getopt              pexpect             tests\n",
            "_xxtestfuzz         getpass             pickle              text_unidecode\n",
            "abc                 gettext             pickleshare         textblob\n",
            "absl                gi                  pickletools         textgenrnn\n",
            "aifc                gin                 pip                 textwrap\n",
            "alabaster           github2pypi         pipes               theano\n",
            "albumentations      glob                piptools            thinc\n",
            "altair              glob2               pkg_resources       this\n",
            "antigravity         gnm                 pkgutil             threading\n",
            "apiclient           google_auth_httplib2 plac                tifffile\n",
            "appdirs             google_auth_oauthlib plac_core           time\n",
            "apt                 google_drive_downloader plac_ext            timeit\n",
            "apt_inst            googleapiclient     plac_tk             tkinter\n",
            "apt_pkg             googlesearch        platform            tlz\n",
            "aptsources          graphviz            plistlib            token\n",
            "argon2              gridfs              plotly              tokenize\n",
            "argparse            grp                 plotlywidget        toml\n",
            "array               grpc                plotnine            toolz\n",
            "asgiref             gspread             pluggy              torch\n",
            "ast                 gspread_dataframe   pooch               torchsummary\n",
            "astor               gym                 poplib              torchtext\n",
            "astropy             gzip                portpicker          torchvision\n",
            "astunparse          h5py                posix               tornado\n",
            "async_generator     hashlib             posixpath           tqdm\n",
            "asynchat            heapdict            pprint              trace\n",
            "asyncio             heapq               prefetch_generator  traceback\n",
            "asyncore            hijri_converter     preshed             tracemalloc\n",
            "atari_py            hmac                prettytable         traitlets\n",
            "atexit              holidays            profile             tree\n",
            "atomicwrites        holoviews           progressbar         tty\n",
            "attr                html                prometheus_client   turtle\n",
            "audioop             html5lib            promise             tweepy\n",
            "audioread           http                prompt_toolkit      typeguard\n",
            "autograd            httpimport          pstats              types\n",
            "autoreload          httplib2            psutil              typing\n",
            "babel               httplib2shim        psycopg2            typing_extensions\n",
            "backcall            humanize            pty                 tzlocal\n",
            "base64              hyperopt            ptyprocess          umap\n",
            "bdb                 ideep4py            pvectorc            unicodedata\n",
            "bin                 idna                pwd                 unittest\n",
            "binascii            image               py                  uritemplate\n",
            "binhex              imageio             py_compile          urllib\n",
            "bisect              imagesize           pyarrow             urllib3\n",
            "bleach              imaplib             pyasn1              uu\n",
            "blis                imblearn            pyasn1_modules      uuid\n",
            "bokeh               imgaug              pyclbr              vega_datasets\n",
            "boost               imghdr              pycocotools         venv\n",
            "bottleneck          imp                 pycparser           vis\n",
            "branca              importlib           pyct                warnings\n",
            "bs4                 importlib_metadata  pydata_google_auth  wasabi\n",
            "bson                importlib_resources pydoc               wave\n",
            "builtins            imutils             pydoc_data          wcwidth\n",
            "bz2                 inflect             pydot               weakref\n",
            "cProfile            iniconfig           pydot_ng            webbrowser\n",
            "cachecontrol        inspect             pydotplus           webencodings\n",
            "cachetools          intervaltree        pydrive             werkzeug\n",
            "caffe2              io                  pyemd               wheel\n",
            "calendar            ipaddress           pyexpat             widgetsnbextension\n",
            "catalogue           ipykernel           pyglet              wordcloud\n",
            "certifi             ipykernel_launcher  pygments            wrapt\n",
            "cffi                ipython_genutils    pygtkcompat         wsgiref\n",
            "cgi                 ipywidgets          pylab               xarray\n",
            "cgitb               isympy              pymc3               xdrlib\n",
            "chainer             itertools           pymeeus             xgboost\n",
            "chainermn           itsdangerous        pymongo             xkit\n",
            "chainerx            jax                 pymystem3           xlrd\n",
            "chardet             jaxlib              pynndescent         xlwt\n",
            "chess               jdcal               pynvml              xml\n",
            "chunk               jedi                pyparsing           xmlrpc\n",
            "click               jieba               pyrsistent          xxlimited\n",
            "client              jinja2              pysndfile           xxsubtype\n",
            "cloudpickle         joblib              pystan              yaml\n",
            "cmake               jpeg4py             pytest              yellowbrick\n",
            "cmath               json                python_utils        zict\n",
            "cmd                 jsonschema          pytz                zipapp\n",
            "cmdstanpy           jupyter             pyviz_comms         zipfile\n",
            "code                jupyter_client      pywt                zipimport\n",
            "codecs              jupyter_console     pyximport           zipp\n",
            "codeop              jupyter_core        qdldl               zlib\n",
            "colab               jupyterlab_pygments qtconsole           zmq\n",
            "collections         jupyterlab_widgets  qtpy                \n",
            "colorlover          kaggle              queue               \n",
            "\n",
            "Enter any module name to get more help.  Or, type \"modules spam\" to search\n",
            "for modules whose name or summary contain the string \"spam\".\n",
            "\n",
            "help> cmd\n",
            "Help on module cmd:\n",
            "\n",
            "NAME\n",
            "    cmd - A generic class to build line-oriented command interpreters.\n",
            "\n",
            "MODULE REFERENCE\n",
            "    https://docs.python.org/3.7/library/cmd\n",
            "    \n",
            "    The following documentation is automatically generated from the Python\n",
            "    source files.  It may be incomplete, incorrect or include features that\n",
            "    are considered implementation detail and may vary between Python\n",
            "    implementations.  When in doubt, consult the module reference at the\n",
            "    location listed above.\n",
            "\n",
            "DESCRIPTION\n",
            "    Interpreters constructed with this class obey the following conventions:\n",
            "    \n",
            "    1. End of file on input is processed as the command 'EOF'.\n",
            "    2. A command is parsed out of each line by collecting the prefix composed\n",
            "       of characters in the identchars member.\n",
            "    3. A command `foo' is dispatched to a method 'do_foo()'; the do_ method\n",
            "       is passed a single argument consisting of the remainder of the line.\n",
            "    4. Typing an empty line repeats the last command.  (Actually, it calls the\n",
            "       method `emptyline', which may be overridden in a subclass.)\n",
            "    5. There is a predefined `help' method.  Given an argument `topic', it\n",
            "       calls the command `help_topic'.  With no arguments, it lists all topics\n",
            "       with defined help_ functions, broken into up to three topics; documented\n",
            "       commands, miscellaneous help topics, and undocumented commands.\n",
            "    6. The command '?' is a synonym for `help'.  The command '!' is a synonym\n",
            "       for `shell', if a do_shell method exists.\n",
            "    7. If completion is enabled, completing commands will be done automatically,\n",
            "       and completing of commands args is done by calling complete_foo() with\n",
            "       arguments text, line, begidx, endidx.  text is string we are matching\n",
            "       against, all returned matches must begin with it.  line is the current\n",
            "       input line (lstripped), begidx and endidx are the beginning and end\n",
            "       indexes of the text being matched, which could be used to provide\n",
            "       different completion depending upon which position the argument is in.\n",
            "    \n",
            "    The `default' method may be overridden to intercept commands for which there\n",
            "    is no do_ method.\n",
            "    \n",
            "    The `completedefault' method may be overridden to intercept completions for\n",
            "    commands that have no complete_ method.\n",
            "    \n",
            "    The data member `self.ruler' sets the character used to draw separator lines\n",
            "    in the help messages.  If empty, no ruler line is drawn.  It defaults to \"=\".\n",
            "    \n",
            "    If the value of `self.intro' is nonempty when the cmdloop method is called,\n",
            "    it is printed out on interpreter startup.  This value may be overridden\n",
            "    via an optional argument to the cmdloop() method.\n",
            "    \n",
            "    The data members `self.doc_header', `self.misc_header', and\n",
            "    `self.undoc_header' set the headers used for the help function's\n",
            "    listings of documented functions, miscellaneous topics, and undocumented\n",
            "    functions respectively.\n",
            "\n",
            "CLASSES\n",
            "    builtins.object\n",
            "        Cmd\n",
            "    \n",
            "    class Cmd(builtins.object)\n",
            "     |  Cmd(completekey='tab', stdin=None, stdout=None)\n",
            "     |  \n",
            "     |  A simple framework for writing line-oriented command interpreters.\n",
            "     |  \n",
            "     |  These are often useful for test harnesses, administrative tools, and\n",
            "     |  prototypes that will later be wrapped in a more sophisticated interface.\n",
            "     |  \n",
            "     |  A Cmd instance or subclass instance is a line-oriented interpreter\n",
            "     |  framework.  There is no good reason to instantiate Cmd itself; rather,\n",
            "     |  it's useful as a superclass of an interpreter class you define yourself\n",
            "     |  in order to inherit Cmd's methods and encapsulate action methods.\n",
            "     |  \n",
            "     |  Methods defined here:\n",
            "     |  \n",
            "     |  __init__(self, completekey='tab', stdin=None, stdout=None)\n",
            "     |      Instantiate a line-oriented interpreter framework.\n",
            "     |      \n",
            "     |      The optional argument 'completekey' is the readline name of a\n",
            "     |      completion key; it defaults to the Tab key. If completekey is\n",
            "     |      not None and the readline module is available, command completion\n",
            "     |      is done automatically. The optional arguments stdin and stdout\n",
            "     |      specify alternate input and output file objects; if not specified,\n",
            "     |      sys.stdin and sys.stdout are used.\n",
            "     |  \n",
            "     |  cmdloop(self, intro=None)\n",
            "     |      Repeatedly issue a prompt, accept input, parse an initial prefix\n",
            "     |      off the received input, and dispatch to action methods, passing them\n",
            "     |      the remainder of the line as argument.\n",
            "     |  \n",
            "     |  columnize(self, list, displaywidth=80)\n",
            "     |      Display a list of strings as a compact set of columns.\n",
            "     |      \n",
            "     |      Each column is only as wide as necessary.\n",
            "     |      Columns are separated by two spaces (one was not legible enough).\n",
            "     |  \n",
            "     |  complete(self, text, state)\n",
            "     |      Return the next possible completion for 'text'.\n",
            "     |      \n",
            "     |      If a command has not been entered, then complete against command list.\n",
            "     |      Otherwise try to call complete_<command> to get list of completions.\n",
            "     |  \n",
            "     |  complete_help(self, *args)\n",
            "     |  \n",
            "     |  completedefault(self, *ignored)\n",
            "     |      Method called to complete an input line when no command-specific\n",
            "     |      complete_*() method is available.\n",
            "     |      \n",
            "     |      By default, it returns an empty list.\n",
            "     |  \n",
            "     |  completenames(self, text, *ignored)\n",
            "     |  \n",
            "     |  default(self, line)\n",
            "     |      Called on an input line when the command prefix is not recognized.\n",
            "     |      \n",
            "     |      If this method is not overridden, it prints an error message and\n",
            "     |      returns.\n",
            "     |  \n",
            "     |  do_help(self, arg)\n",
            "     |      List available commands with \"help\" or detailed help with \"help cmd\".\n",
            "     |  \n",
            "     |  emptyline(self)\n",
            "     |      Called when an empty line is entered in response to the prompt.\n",
            "     |      \n",
            "     |      If this method is not overridden, it repeats the last nonempty\n",
            "     |      command entered.\n",
            "     |  \n",
            "     |  get_names(self)\n",
            "     |  \n",
            "     |  onecmd(self, line)\n",
            "     |      Interpret the argument as though it had been typed in response\n",
            "     |      to the prompt.\n",
            "     |      \n",
            "     |      This may be overridden, but should not normally need to be;\n",
            "     |      see the precmd() and postcmd() methods for useful execution hooks.\n",
            "     |      The return value is a flag indicating whether interpretation of\n",
            "     |      commands by the interpreter should stop.\n",
            "     |  \n",
            "     |  parseline(self, line)\n",
            "     |      Parse the line into a command name and a string containing\n",
            "     |      the arguments.  Returns a tuple containing (command, args, line).\n",
            "     |      'command' and 'args' may be None if the line couldn't be parsed.\n",
            "     |  \n",
            "     |  postcmd(self, stop, line)\n",
            "     |      Hook method executed just after a command dispatch is finished.\n",
            "     |  \n",
            "     |  postloop(self)\n",
            "     |      Hook method executed once when the cmdloop() method is about to\n",
            "     |      return.\n",
            "     |  \n",
            "     |  precmd(self, line)\n",
            "     |      Hook method executed just before the command line is\n",
            "     |      interpreted, but after the input prompt is generated and issued.\n",
            "     |  \n",
            "     |  preloop(self)\n",
            "     |      Hook method executed once when the cmdloop() method is called.\n",
            "     |  \n",
            "     |  print_topics(self, header, cmds, cmdlen, maxcol)\n",
            "     |  \n",
            "     |  ----------------------------------------------------------------------\n",
            "     |  Data descriptors defined here:\n",
            "     |  \n",
            "     |  __dict__\n",
            "     |      dictionary for instance variables (if defined)\n",
            "     |  \n",
            "     |  __weakref__\n",
            "     |      list of weak references to the object (if defined)\n",
            "     |  \n",
            "     |  ----------------------------------------------------------------------\n",
            "     |  Data and other attributes defined here:\n",
            "     |  \n",
            "     |  doc_header = 'Documented commands (type help <topic>):'\n",
            "     |  \n",
            "     |  doc_leader = ''\n",
            "     |  \n",
            "     |  identchars = 'abcdefghijklmnopqrstuvwxyzABCDEFGHIJKLMNOPQRSTUVWXYZ0123...\n",
            "     |  \n",
            "     |  intro = None\n",
            "     |  \n",
            "     |  lastcmd = ''\n",
            "     |  \n",
            "     |  misc_header = 'Miscellaneous help topics:'\n",
            "     |  \n",
            "     |  nohelp = '*** No help on %s'\n",
            "     |  \n",
            "     |  prompt = '(Cmd) '\n",
            "     |  \n",
            "     |  ruler = '='\n",
            "     |  \n",
            "     |  undoc_header = 'Undocumented commands:'\n",
            "     |  \n",
            "     |  use_rawinput = 1\n",
            "\n",
            "DATA\n",
            "    __all__ = ['Cmd']\n",
            "\n",
            "FILE\n",
            "    /usr/lib/python3.7/cmd.py\n",
            "\n",
            "\n",
            "help> topics\n",
            "\n",
            "Here is a list of available topics.  Enter any topic name to get more help.\n",
            "\n",
            "ASSERTION           DELETION            LOOPING             SHIFTING\n",
            "ASSIGNMENT          DICTIONARIES        MAPPINGMETHODS      SLICINGS\n",
            "ATTRIBUTEMETHODS    DICTIONARYLITERALS  MAPPINGS            SPECIALATTRIBUTES\n",
            "ATTRIBUTES          DYNAMICFEATURES     METHODS             SPECIALIDENTIFIERS\n",
            "AUGMENTEDASSIGNMENT ELLIPSIS            MODULES             SPECIALMETHODS\n",
            "BASICMETHODS        EXCEPTIONS          NAMESPACES          STRINGMETHODS\n",
            "BINARY              EXECUTION           NONE                STRINGS\n",
            "BITWISE             EXPRESSIONS         NUMBERMETHODS       SUBSCRIPTS\n",
            "BOOLEAN             FLOAT               NUMBERS             TRACEBACKS\n",
            "CALLABLEMETHODS     FORMATTING          OBJECTS             TRUTHVALUE\n",
            "CALLS               FRAMEOBJECTS        OPERATORS           TUPLELITERALS\n",
            "CLASSES             FRAMES              PACKAGES            TUPLES\n",
            "CODEOBJECTS         FUNCTIONS           POWER               TYPEOBJECTS\n",
            "COMPARISON          IDENTIFIERS         PRECEDENCE          TYPES\n",
            "COMPLEX             IMPORTING           PRIVATENAMES        UNARY\n",
            "CONDITIONAL         INTEGER             RETURNING           UNICODE\n",
            "CONTEXTMANAGERS     LISTLITERALS        SCOPING             \n",
            "CONVERSIONS         LISTS               SEQUENCEMETHODS     \n",
            "DEBUGGING           LITERALS            SEQUENCES           \n",
            "\n",
            "help> LISTS\n",
            "Mutable Sequence Types\n",
            "**********************\n",
            "\n",
            "The operations in the following table are defined on mutable sequence\n",
            "types. The \"collections.abc.MutableSequence\" ABC is provided to make\n",
            "it easier to correctly implement these operations on custom sequence\n",
            "types.\n",
            "\n",
            "In the table *s* is an instance of a mutable sequence type, *t* is any\n",
            "iterable object and *x* is an arbitrary object that meets any type and\n",
            "value restrictions imposed by *s* (for example, \"bytearray\" only\n",
            "accepts integers that meet the value restriction \"0 <= x <= 255\").\n",
            "\n",
            "+--------------------------------+----------------------------------+-----------------------+\n",
            "| Operation                      | Result                           | Notes                 |\n",
            "|================================|==================================|=======================|\n",
            "| \"s[i] = x\"                     | item *i* of *s* is replaced by   |                       |\n",
            "|                                | *x*                              |                       |\n",
            "+--------------------------------+----------------------------------+-----------------------+\n",
            "| \"s[i:j] = t\"                   | slice of *s* from *i* to *j* is  |                       |\n",
            "|                                | replaced by the contents of the  |                       |\n",
            "|                                | iterable *t*                     |                       |\n",
            "+--------------------------------+----------------------------------+-----------------------+\n",
            "| \"del s[i:j]\"                   | same as \"s[i:j] = []\"            |                       |\n",
            "+--------------------------------+----------------------------------+-----------------------+\n",
            "| \"s[i:j:k] = t\"                 | the elements of \"s[i:j:k]\" are   | (1)                   |\n",
            "|                                | replaced by those of *t*         |                       |\n",
            "+--------------------------------+----------------------------------+-----------------------+\n",
            "| \"del s[i:j:k]\"                 | removes the elements of          |                       |\n",
            "|                                | \"s[i:j:k]\" from the list         |                       |\n",
            "+--------------------------------+----------------------------------+-----------------------+\n",
            "| \"s.append(x)\"                  | appends *x* to the end of the    |                       |\n",
            "|                                | sequence (same as                |                       |\n",
            "|                                | \"s[len(s):len(s)] = [x]\")        |                       |\n",
            "+--------------------------------+----------------------------------+-----------------------+\n",
            "| \"s.clear()\"                    | removes all items from *s* (same | (5)                   |\n",
            "|                                | as \"del s[:]\")                   |                       |\n",
            "+--------------------------------+----------------------------------+-----------------------+\n",
            "| \"s.copy()\"                     | creates a shallow copy of *s*    | (5)                   |\n",
            "|                                | (same as \"s[:]\")                 |                       |\n",
            "+--------------------------------+----------------------------------+-----------------------+\n",
            "| \"s.extend(t)\" or \"s += t\"      | extends *s* with the contents of |                       |\n",
            "|                                | *t* (for the most part the same  |                       |\n",
            "|                                | as \"s[len(s):len(s)] = t\")       |                       |\n",
            "+--------------------------------+----------------------------------+-----------------------+\n",
            "| \"s *= n\"                       | updates *s* with its contents    | (6)                   |\n",
            "|                                | repeated *n* times               |                       |\n",
            "+--------------------------------+----------------------------------+-----------------------+\n",
            "| \"s.insert(i, x)\"               | inserts *x* into *s* at the      |                       |\n",
            "|                                | index given by *i* (same as      |                       |\n",
            "|                                | \"s[i:i] = [x]\")                  |                       |\n",
            "+--------------------------------+----------------------------------+-----------------------+\n",
            "| \"s.pop([i])\"                   | retrieves the item at *i* and    | (2)                   |\n",
            "|                                | also removes it from *s*         |                       |\n",
            "+--------------------------------+----------------------------------+-----------------------+\n",
            "| \"s.remove(x)\"                  | remove the first item from *s*   | (3)                   |\n",
            "|                                | where \"s[i]\" is equal to *x*     |                       |\n",
            "+--------------------------------+----------------------------------+-----------------------+\n",
            "| \"s.reverse()\"                  | reverses the items of *s* in     | (4)                   |\n",
            "|                                | place                            |                       |\n",
            "+--------------------------------+----------------------------------+-----------------------+\n",
            "\n",
            "Notes:\n",
            "\n",
            "1. *t* must have the same length as the slice it is replacing.\n",
            "\n",
            "2. The optional argument *i* defaults to \"-1\", so that by default the\n",
            "   last item is removed and returned.\n",
            "\n",
            "3. \"remove\" raises \"ValueError\" when *x* is not found in *s*.\n",
            "\n",
            "4. The \"reverse()\" method modifies the sequence in place for economy\n",
            "   of space when reversing a large sequence.  To remind users that it\n",
            "   operates by side effect, it does not return the reversed sequence.\n",
            "\n",
            "5. \"clear()\" and \"copy()\" are included for consistency with the\n",
            "   interfaces of mutable containers that don’t support slicing\n",
            "   operations (such as \"dict\" and \"set\")\n",
            "\n",
            "   New in version 3.3: \"clear()\" and \"copy()\" methods.\n",
            "\n",
            "6. The value *n* is an integer, or an object implementing\n",
            "   \"__index__()\".  Zero and negative values of *n* clear the sequence.\n",
            "   Items in the sequence are not copied; they are referenced multiple\n",
            "   times, as explained for \"s * n\" under Common Sequence Operations.\n",
            "\n",
            "Related help topics: LISTLITERALS\n",
            "\n",
            "\n",
            "You are now leaving help and returning to the Python interpreter.\n",
            "If you want to ask for help on a particular object directly from the\n",
            "interpreter, you can type \"help(object)\".  Executing \"help('string')\"\n",
            "has the same effect as typing a particular string at the help> prompt.\n"
          ],
          "name": "stdout"
        }
      ]
    },
    {
      "cell_type": "markdown",
      "metadata": {
        "id": "N5eRTUGxRVOr"
      },
      "source": [
        "8. The tax calculator program of the case study outputs a floating-point number that might show more than two digits of precision. Use the round function to modify the program to display at most two digits of precision in the output number."
      ]
    },
    {
      "cell_type": "code",
      "metadata": {
        "id": "nn_rZ4h2RZZb",
        "colab": {
          "base_uri": "https://localhost:8080/"
        },
        "outputId": "1af55c38-0d74-4e6a-b2fa-e947e44f6e77"
      },
      "source": [
        "num = float(input(\"Enter the number:\"))\r\n",
        "rounded = round(num, 2)\r\n",
        "print(\"Two digits number is\", rounded)"
      ],
      "execution_count": 6,
      "outputs": [
        {
          "output_type": "stream",
          "text": [
            "Enter the number:26.99999\n",
            "Two digits number is 27.0\n"
          ],
          "name": "stdout"
        }
      ]
    },
    {
      "cell_type": "markdown",
      "metadata": {
        "id": "WpCXLl71RaLc"
      },
      "source": [
        "9. You can calculate the surface area of a cube if you know the length of an edge. Write a program that takes the length of an edge(an integer) as input and prints the cube's surface area as output."
      ]
    },
    {
      "cell_type": "code",
      "metadata": {
        "colab": {
          "base_uri": "https://localhost:8080/"
        },
        "id": "EKO1SLX-RcsK",
        "outputId": "77966ee7-9406-4ed8-c00f-4222175a3f10"
      },
      "source": [
        "edgeLength = int(input(\"Enter the length of an edge:\"))\r\n",
        "cubeSurfaceArea = 6*edgeLength**2\r\n",
        "print(\"The total surface area of cube is\",cubeSurfaceArea,\"sq. units.\")"
      ],
      "execution_count": null,
      "outputs": [
        {
          "output_type": "stream",
          "text": [
            "Enter the length of an edge:5\n",
            "The total surface area of cube is 150 sq. units.\n"
          ],
          "name": "stdout"
        }
      ]
    },
    {
      "cell_type": "markdown",
      "metadata": {
        "id": "ur-DiDq5RdNN"
      },
      "source": [
        "10.Five Star Retro Video rents VHS tapes and DVDs to the same connoisseurs who like to buy LP record albums. The store rents new videos for $3.00 a night, and oldies for $2.00 a night.\r\n",
        "\r\n",
        "Write a program that the clerks at Five Star Retro Video can use to calculate the total charge for a customer’s video rentals.\r\n",
        "\r\n",
        "The program should prompt the user for the number of each type of video and output the total cost."
      ]
    },
    {
      "cell_type": "code",
      "metadata": {
        "colab": {
          "base_uri": "https://localhost:8080/"
        },
        "id": "DRIPZmoyRg4p",
        "outputId": "42428e80-967f-43db-ac28-ada7c04cf071"
      },
      "source": [
        "new = int(input(\"Enter the number of new videos:\"))\r\n",
        "old = int(input(\"Enter the number of old videos:\"))\r\n",
        "totalCost = (new *3.00)+(old*2.00)\r\n",
        "print(\"Total cost for the customer is $\",totalCost,\"only.\")"
      ],
      "execution_count": null,
      "outputs": [
        {
          "output_type": "stream",
          "text": [
            "Enter the number of new videos:3\n",
            "Enter the number of old videos:2\n",
            "Total cost for the customer is $ 13.0 only.\n"
          ],
          "name": "stdout"
        }
      ]
    },
    {
      "cell_type": "markdown",
      "metadata": {
        "id": "23B3K03pRhu1"
      },
      "source": [
        "11. Write a program that takes the radius of a sphere(a floating point number) as input and then outputs the sphere's diameter, circumference, surface area and volume."
      ]
    },
    {
      "cell_type": "code",
      "metadata": {
        "colab": {
          "base_uri": "https://localhost:8080/"
        },
        "id": "LcuxsI_RRka9",
        "outputId": "30bf89c8-1933-42b3-bf75-324e1abc7226"
      },
      "source": [
        "radius = float(input(\"Enter the radius of a sphere:\"))\r\n",
        "Pie = 22/7\r\n",
        "diameter = 2*radius\r\n",
        "circumference = 2*Pie*radius\r\n",
        "surfaceArea = 4*Pie*radius**2\r\n",
        "volume = (4/3)*Pie*radius**3\r\n",
        "print(\"Radius of a Sphere is\",radius,\".\\nDiameter of Sphere is\",diameter,\".\\nCircumference of sphere is\",circumference,\".\\nSurface Area of Sphere is\",surfaceArea,\".\\nVolume of Sphere is\",volume,\".\")\r\n"
      ],
      "execution_count": null,
      "outputs": [
        {
          "output_type": "stream",
          "text": [
            "Enter the radius of a sphere:5\n",
            "Radius of a Sphere is 5.0 .\n",
            "Diameter of Sphere is 10.0 .\n",
            "Circumference of sphere is 31.428571428571427 .\n",
            "Surface Area of Sphere is 314.2857142857143 .\n",
            "Volume of Sphere is 523.8095238095237 .\n"
          ],
          "name": "stdout"
        }
      ]
    },
    {
      "cell_type": "markdown",
      "metadata": {
        "id": "-t8g6TasRkrl"
      },
      "source": [
        "12. Instructions An object's momentum is its mass multiplied by its velocity. Write a program that accepts an object's mass (in kilograms) and velocity (in meters per second) as inputs, and then outputs its momentum."
      ]
    },
    {
      "cell_type": "code",
      "metadata": {
        "colab": {
          "base_uri": "https://localhost:8080/"
        },
        "id": "vEZ4fJPFRoIH",
        "outputId": "ca818c36-d7e3-4edf-82af-636187866d5b"
      },
      "source": [
        "mass = float(input(\"Enter the mass of an object(in KG):\"))\r\n",
        "velocity = float(input(\"Enter the velocity of an object(in m/s):\"))\r\n",
        "momentum = mass*velocity\r\n",
        "print(\"The momentum(P) of an object having mass\",mass,\"KG and velocity\",velocity,\"meters per second is\",momentum)"
      ],
      "execution_count": null,
      "outputs": [
        {
          "output_type": "stream",
          "text": [
            "Enter the mass of an object(in KG):25\n",
            "Enter the velocity of an object(in m/s):215.56\n",
            "The momentum(P) of an object having mass 25.0 KG and velocity 215.56 meters per second is 5389.0\n"
          ],
          "name": "stdout"
        }
      ]
    },
    {
      "cell_type": "markdown",
      "metadata": {
        "id": "lNNTHsnuRokw"
      },
      "source": [
        "13. The kinetic energy of a moving object is given by the formula KE = ½mv2 where m is the object’s mass and v is its velocity.\r\n",
        "\r\n",
        "Modify the program you created in Project 5 so that it prints the object’s kinetic energy as well as its momentum."
      ]
    },
    {
      "cell_type": "code",
      "metadata": {
        "colab": {
          "base_uri": "https://localhost:8080/"
        },
        "id": "L1Rq4g6mRrrF",
        "outputId": "4a390e2b-1cda-4d9f-8d76-366cfe9009f5"
      },
      "source": [
        "m = float(input(\"Enter the mass of an object(in KG):\"))\r\n",
        "v = float(input(\"Enter the velocity of an object(in m/s):\"))\r\n",
        "momentum = m*v\r\n",
        "KE = (1/2)*m*v**2\r\n",
        "print(\"The momentum(P) of an object having mass\",m,\"KG and velocity\",v,\"meters per second is\",momentum)\r\n",
        "print(\"The Kinetic Energy(KE) of an object having mass\",m,\"KG and velocity\",v,\"meters per second is\",KE)"
      ],
      "execution_count": null,
      "outputs": [
        {
          "output_type": "stream",
          "text": [
            "Enter the mass of an object(in KG):25\n",
            "Enter the velocity of an object(in m/s):215.56\n",
            "The momentum(P) of an object having mass 25.0 KG and velocity 215.56 meters per second is 5389.0\n",
            "The Kinetic Energy(KE) of an object having mass 25.0 KG and velocity 215.56 meters per second is 580826.42\n"
          ],
          "name": "stdout"
        }
      ]
    },
    {
      "cell_type": "markdown",
      "metadata": {
        "id": "gfdjBiudRsKC"
      },
      "source": [
        "14. An employee’s total weekly pay equals the hourly wage multiplied by the total number of regular hours plus any overtime pay. Overtime pay equals the total overtime hours multiplied by 1.5 times the hourly wage. Write a program that takes as inputs the hourly wage, total regular hours, and total overtime hours and displays an employee’s total weekly pay."
      ]
    },
    {
      "cell_type": "code",
      "metadata": {
        "colab": {
          "base_uri": "https://localhost:8080/"
        },
        "id": "QaiMqIXBgBa4",
        "outputId": "7ce59c90-edb9-41a5-8521-36f10b695b3f"
      },
      "source": [
        "hourlyWage = float(input(\"Enter hourly wage:\"))\r\n",
        "totalRegularHours = int(input(\"Enter the total working hours:\"))\r\n",
        "totalOverTimeHours = int(input(\"Enter the total overtime hours:\"))\r\n",
        "weeklyPay = (hourlyWage * totalRegularHours) + (totalOverTimeHours * (1.5 * hourlyWage))\r\n",
        "print(\"The total weekly pay for the employee is\", weeklyPay)"
      ],
      "execution_count": 5,
      "outputs": [
        {
          "output_type": "stream",
          "text": [
            "Enter hourly wage:325\n",
            "Enter the total working hours:6\n",
            "Enter the total overtime hours:3\n",
            "The total weekly pay for the employee is 3412.5\n"
          ],
          "name": "stdout"
        }
      ]
    }
  ]
}