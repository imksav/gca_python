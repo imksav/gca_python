{
  "nbformat": 4,
  "nbformat_minor": 0,
  "metadata": {
    "colab": {
      "name": "Day1InPython.ipynb",
      "provenance": [],
      "collapsed_sections": [],
      "include_colab_link": true
    },
    "kernelspec": {
      "name": "python3",
      "display_name": "Python 3"
    }
  },
  "cells": [
    {
      "cell_type": "markdown",
      "metadata": {
        "id": "view-in-github",
        "colab_type": "text"
      },
      "source": [
        "<a href=\"https://colab.research.google.com/github/imksav/gca_python/blob/master/Day1InPython.ipynb\" target=\"_parent\"><img src=\"https://colab.research.google.com/assets/colab-badge.svg\" alt=\"Open In Colab\"/></a>"
      ]
    },
    {
      "cell_type": "markdown",
      "metadata": {
        "id": "Yd_kxX_95hur"
      },
      "source": [
        "**Dictionaries**"
      ]
    },
    {
      "cell_type": "markdown",
      "metadata": {
        "id": "4WOkDYWxMi47"
      },
      "source": [
        "**Practice of Dictonary**"
      ]
    },
    {
      "cell_type": "code",
      "metadata": {
        "id": "P9g5Q7F5MvWC"
      },
      "source": [
        "# Practice of Dictonary\r\n"
      ],
      "execution_count": null,
      "outputs": []
    },
    {
      "cell_type": "code",
      "metadata": {
        "colab": {
          "base_uri": "https://localhost:8080/"
        },
        "id": "oFaeRfb3KLMl",
        "outputId": "921c4d33-af0e-4013-ec65-028190a1910c"
      },
      "source": [
        "# More of Dict\r\n",
        "dict1 = {\r\n",
        "    \"name\": \"Keshav Bhandari\",\r\n",
        "    \"email\": \"imksav@gmail.com\",\r\n",
        "    \"age\": 21\r\n",
        "}\r\n",
        "print(dict1)\r\n",
        "# Use of zip\r\n",
        "questions = [\"name\", \"email\", \"age\"]\r\n",
        "answers = [\"Keshav Bhandari\", \"imksav@gmail.com\", 21]\r\n",
        "for q,a in zip(questions, answers):\r\n",
        "  print(\"What is your {0}?\\nMy {0} is {1}.\".format(q,a))"
      ],
      "execution_count": null,
      "outputs": [
        {
          "output_type": "stream",
          "text": [
            "{'name': 'Keshav Bhandari', 'email': 'imksav@gmail.com', 'age': 21}\n",
            "What is your name?\n",
            "My name is Keshav Bhandari.\n",
            "What is your email?\n",
            "My email is imksav@gmail.com.\n",
            "What is your age?\n",
            "My age is 21.\n"
          ],
          "name": "stdout"
        }
      ]
    },
    {
      "cell_type": "code",
      "metadata": {
        "colab": {
          "base_uri": "https://localhost:8080/"
        },
        "id": "9_nYGfEY5sFQ",
        "outputId": "32189787-4c67-49cd-d2a4-90b5cee9c676"
      },
      "source": [
        "# Use of Dict\r\n",
        "myDict = {\r\n",
        "    \"fName\": \"Keshav\",\r\n",
        "    \"lName\": \"Bhandari\",\r\n",
        "    \"age\": \"21\",\r\n",
        "    \"education\": \"Bachelor in Computer Science - Information Technology\",\r\n",
        "    \"college\": \"Sunway International Business School\"\r\n",
        "}\r\n",
        "print(myDict)\r\n",
        "print(\"My name is \"+myDict[\"fName\"]+\" \"+myDict[\"lName\"]+\".\\nI'm \"+myDict[\"age\"]+\" years old.\\nI'm studying \"+myDict[\"education\"]+\" at \"+myDict[\"college\"]+\".\")\r\n",
        "print(\"==========================\")\r\n",
        "print(\"My name is \"+myDict.get(\"fName\")+\" \"+myDict.get(\"lName\")+\".\\nI'm \"+myDict.get(\"age\")+\" years old.\\nI'm studying \"+myDict.get(\"education\")+\" at \"+myDict.get(\"college\")+\".\")\r\n",
        "print(\"==========================\")\r\n",
        "for x in myDict:\r\n",
        "  print(x)\r\n",
        "print(\"==========================\")\r\n",
        "for x in myDict:\r\n",
        "  print(myDict[x])\r\n",
        "print(\"==========================\")\r\n",
        "for x in myDict.values():\r\n",
        "  print(x)\r\n",
        "print(\"==========================\")\r\n",
        "for x, y in myDict.items():\r\n",
        "  # print(x,y)\r\n",
        "  print(x+\": \"+y)"
      ],
      "execution_count": null,
      "outputs": [
        {
          "output_type": "stream",
          "text": [
            "{'fName': 'Keshav', 'lName': 'Bhandari', 'age': '21', 'education': 'Bachelor in Computer Science - Information Technology', 'college': 'Sunway International Business School'}\n",
            "My name is Keshav Bhandari.\n",
            "I'm 21 years old.\n",
            "I'm studying Bachelor in Computer Science - Information Technology at Sunway International Business School.\n",
            "==========================\n",
            "My name is Keshav Bhandari.\n",
            "I'm 21 years old.\n",
            "I'm studying Bachelor in Computer Science - Information Technology at Sunway International Business School.\n",
            "==========================\n",
            "fName\n",
            "lName\n",
            "age\n",
            "education\n",
            "college\n",
            "==========================\n",
            "Keshav\n",
            "Bhandari\n",
            "21\n",
            "Bachelor in Computer Science - Information Technology\n",
            "Sunway International Business School\n",
            "==========================\n",
            "Keshav\n",
            "Bhandari\n",
            "21\n",
            "Bachelor in Computer Science - Information Technology\n",
            "Sunway International Business School\n",
            "==========================\n",
            "fName: Keshav\n",
            "lName: Bhandari\n",
            "age: 21\n",
            "education: Bachelor in Computer Science - Information Technology\n",
            "college: Sunway International Business School\n"
          ],
          "name": "stdout"
        }
      ]
    },
    {
      "cell_type": "code",
      "metadata": {
        "colab": {
          "base_uri": "https://localhost:8080/"
        },
        "id": "5fBBciVFVwq3",
        "outputId": "b89b6e4e-67e9-4f88-edf3-e89d1e902a8f"
      },
      "source": [
        "# More of Set\r\n",
        "set1 = {1,3,5,7,9}\r\n",
        "set2 = {2,4,6,8,10}\r\n",
        "print(set1.union(set2))\r\n",
        "# set1.update(set2)\r\n",
        "set1.update(set2)\r\n",
        "print(set1)\r\n",
        "intersectionSet = set1.intersection(set2)\r\n",
        "print(intersectionSet)\r\n",
        "differenceSet = set1.difference(set2)\r\n",
        "print(differenceSet)\r\n",
        "print(\"================\")\r\n",
        "print(set1)\r\n",
        "print(set2)\r\n",
        "print(set1-set2)\r\n",
        "print(set2-set1)\r\n",
        "print(set1 | set2)\r\n",
        "print(set1 & set2)\r\n",
        "print(set1 ^ set2)\r\n",
        "print(set2 ^ set1)"
      ],
      "execution_count": null,
      "outputs": [
        {
          "output_type": "stream",
          "text": [
            "{1, 2, 3, 4, 5, 6, 7, 8, 9, 10}\n",
            "{1, 2, 3, 4, 5, 6, 7, 8, 9, 10}\n",
            "{2, 4, 6, 8, 10}\n",
            "{1, 3, 5, 7, 9}\n",
            "================\n",
            "{1, 2, 3, 4, 5, 6, 7, 8, 9, 10}\n",
            "{2, 4, 6, 8, 10}\n",
            "{1, 3, 5, 7, 9}\n",
            "set()\n",
            "{1, 2, 3, 4, 5, 6, 7, 8, 9, 10}\n",
            "{2, 4, 6, 8, 10}\n",
            "{1, 3, 5, 7, 9}\n",
            "{1, 3, 5, 7, 9}\n"
          ],
          "name": "stdout"
        }
      ]
    },
    {
      "cell_type": "code",
      "metadata": {
        "colab": {
          "base_uri": "https://localhost:8080/"
        },
        "id": "ZTgqfg93Tyoy",
        "outputId": "541013d4-6cc7-495e-a62f-272b58c56f98"
      },
      "source": [
        "# Set\r\n",
        "mySet = {1,5,9,3,7}\r\n",
        "print(mySet)\r\n",
        "print(5 in mySet)\r\n",
        "print(10 in mySet)\r\n",
        "mySet.add(11)\r\n",
        "print(mySet)\r\n",
        "mySet.update({13,15})\r\n",
        "print(mySet)\r\n",
        "mySet.remove(5)\r\n",
        "print(mySet)\r\n",
        "# mySet.remove(5) gives error but\r\n",
        "mySet.discard(5) # doesn't give error\r\n",
        "print(mySet)\r\n",
        "mySet.pop() # starts from begining rather than last indexing\r\n",
        "print(\"###########\")\r\n",
        "mySet.clear()\r\n",
        "print(mySet)\r\n",
        "\r\n"
      ],
      "execution_count": null,
      "outputs": [
        {
          "output_type": "stream",
          "text": [
            "{1, 3, 5, 7, 9}\n",
            "True\n",
            "False\n",
            "{1, 3, 5, 7, 9, 11}\n",
            "{1, 3, 5, 7, 9, 11, 13, 15}\n",
            "{1, 3, 7, 9, 11, 13, 15}\n",
            "{1, 3, 7, 9, 11, 13, 15}\n",
            "###########\n",
            "set()\n"
          ],
          "name": "stdout"
        }
      ]
    },
    {
      "cell_type": "code",
      "metadata": {
        "colab": {
          "base_uri": "https://localhost:8080/"
        },
        "id": "HwokKnJZR7sl",
        "outputId": "1515316a-e93a-4bf0-e79d-3aa5d1c7cd30"
      },
      "source": [
        "# Tuple\r\n",
        "myTuple = (1,6,9,7,2)\r\n",
        "print(myTuple)\r\n",
        "if 10 in myTuple:\r\n",
        "  print(\"Yes Found\")\r\n",
        "else:\r\n",
        "  print(\"Not Found\")\r\n",
        "print(9 in myTuple)\r\n",
        "print(10 in myTuple)"
      ],
      "execution_count": null,
      "outputs": [
        {
          "output_type": "stream",
          "text": [
            "(1, 6, 9, 7, 2)\n",
            "Not Found\n",
            "True\n",
            "False\n"
          ],
          "name": "stdout"
        }
      ]
    },
    {
      "cell_type": "code",
      "metadata": {
        "colab": {
          "base_uri": "https://localhost:8080/"
        },
        "id": "Ew5aVbTDQEdd",
        "outputId": "4e18acbb-6089-473e-edc8-fef26c7aca2e"
      },
      "source": [
        "# stack\r\n",
        "stack = [1,5,9,7]\r\n",
        "stack.append(3)\r\n",
        "print(stack)\r\n",
        "stack.reverse()\r\n",
        "print(stack)\r\n",
        "stack.pop()\r\n",
        "stack.pop()\r\n",
        "print(stack)\r\n",
        "# explore more yourself"
      ],
      "execution_count": null,
      "outputs": [
        {
          "output_type": "stream",
          "text": [
            "[1, 5, 9, 7, 3]\n",
            "[3, 7, 9, 5, 1]\n",
            "[3, 7, 9]\n"
          ],
          "name": "stdout"
        }
      ]
    },
    {
      "cell_type": "code",
      "metadata": {
        "colab": {
          "base_uri": "https://localhost:8080/"
        },
        "id": "3Ryxm2XRp55B",
        "outputId": "6b98038b-a9fc-4c6e-dc56-8655f99c6f1c"
      },
      "source": [
        "# WAP to accept inut from the user and check whether the input is positive or negative or zero.\r\n",
        "number = int(input(\"Enter a number: \"))\r\n",
        "if(number > 0):\r\n",
        "  print(\"positive\")\r\n",
        "elif(number<0):\r\n",
        "  print(\"Negative\")\r\n",
        "else:\r\n",
        "  print(\"Zero\")    "
      ],
      "execution_count": null,
      "outputs": [
        {
          "output_type": "stream",
          "text": [
            "Enter a number: 0\n",
            "Zero\n"
          ],
          "name": "stdout"
        }
      ]
    },
    {
      "cell_type": "markdown",
      "metadata": {
        "id": "RZgstJCOlpxU"
      },
      "source": [
        "**Loop Through List**\r\n",
        "\r\n",
        "---\r\n",
        "\r\n",
        "\r\n"
      ]
    },
    {
      "cell_type": "code",
      "metadata": {
        "colab": {
          "base_uri": "https://localhost:8080/",
          "height": 338
        },
        "id": "tjVsnaL9l3Ix",
        "outputId": "5335c845-b955-456a-e264-07dc39d54d11"
      },
      "source": [
        "myList = [\"Apple\", \"Ball\", \"Cat\"]\r\n",
        "print(myList)\r\n",
        "for x in myList:\r\n",
        "  print(x)\r\n",
        "print(myList[1])\r\n",
        "# use of range\r\n",
        "for i in range(3,32,7):\r\n",
        "  print(i)\r\n",
        "# check item from user input\r\n",
        "fruits = [\"Apple\", \"Banana\", \"Mango\", \"Apple\", \"Banana\"]\r\n",
        "fruit = input(\"Enter name of fruits:\")\r\n",
        "if fruit in fruits:\r\n",
        "  print(fruit+ \" is found\")\r\n",
        "else:\r\n",
        "  print(\"Not found\")\r\n",
        "print(fruits.count(\"Apple\")) # to count the data in a list\r\n",
        "print(fruits.index(\"Banana\")) # place value of data in a list\r\n",
        "print(fruits.index(\"Banana\", 3))\r\n",
        "fruits.append(\"Orange\")\r\n",
        "print(fruits)\r\n",
        "fruits.reverse()\r\n",
        "print(fruits)\r\n",
        "fruits.sort()\r\n",
        "print(fruits)\r\n",
        "fruits.pop()\r\n"
      ],
      "execution_count": null,
      "outputs": [
        {
          "output_type": "stream",
          "text": [
            "['Apple', 'Ball', 'Cat']\n",
            "Apple\n",
            "Ball\n",
            "Cat\n",
            "Ball\n",
            "3\n",
            "10\n",
            "17\n",
            "24\n",
            "31\n",
            "Enter name of fruits:Orange\n",
            "Not found\n",
            "2\n",
            "1\n",
            "4\n",
            "['Apple', 'Banana', 'Mango', 'Apple', 'Banana', 'Orange']\n",
            "['Orange', 'Banana', 'Apple', 'Mango', 'Banana', 'Apple']\n",
            "['Apple', 'Apple', 'Banana', 'Banana', 'Mango', 'Orange']\n"
          ],
          "name": "stdout"
        },
        {
          "output_type": "execute_result",
          "data": {
            "application/vnd.google.colaboratory.intrinsic+json": {
              "type": "string"
            },
            "text/plain": [
              "'Orange'"
            ]
          },
          "metadata": {
            "tags": []
          },
          "execution_count": 36
        }
      ]
    },
    {
      "cell_type": "markdown",
      "metadata": {
        "id": "n9PkxCKyh4rm"
      },
      "source": [
        "**First Step towards Programming**\r\n",
        "\r\n",
        "---\r\n",
        "\r\n",
        "```\r\n",
        "# Fibonacci Series\r\n",
        "```\r\n",
        "\r\n",
        "\r\n",
        "\r\n"
      ]
    },
    {
      "cell_type": "code",
      "metadata": {
        "colab": {
          "base_uri": "https://localhost:8080/"
        },
        "id": "FQQQBTBJgbY3",
        "outputId": "1d8fbd94-510c-40f2-ff02-7e5e7dfc2001"
      },
      "source": [
        "a, b = 0,1\r\n",
        "while a<100:\r\n",
        "  print(a, end=\",\")\r\n",
        "  a,b = b, a+b"
      ],
      "execution_count": null,
      "outputs": [
        {
          "output_type": "stream",
          "text": [
            "0,1,1,2,3,5,8,13,21,34,55,89,"
          ],
          "name": "stdout"
        }
      ]
    },
    {
      "cell_type": "code",
      "metadata": {
        "id": "Q9jCqP-62kR6",
        "colab": {
          "base_uri": "https://localhost:8080/"
        },
        "outputId": "9c59f420-82a2-4a1a-8b26-d1f4fc38a8d6"
      },
      "source": [
        "# Learning List\r\n",
        "squares = [0,1,4,9,16,25,36]\r\n",
        "print(squares)\r\n",
        "print(squares[0]) # print view\r\n",
        "print(squares[:]) # print view\r\n",
        "print(squares[:0:]) # print view\r\n",
        "print(squares[:-4]) # print view\r\n",
        "print(squares[-4:]) # print view\r\n",
        "print(squares+[49,64,81]) # add data to existing list\r\n",
        "print(squares[:]) # print view\r\n",
        "squares.append(100) # add the data into list\r\n",
        "print(squares)\r\n",
        "print(len(squares)) # printing the length of list\r\n",
        "squares[5]=26\r\n",
        "print(squares)\r\n",
        "letters = ['a','c', 'd', 'u']\r\n",
        "print(letters)\r\n",
        "letters[1:3]=['e','i'] # add data into the given place value in list \r\n",
        "print(letters)\r\n",
        "letters[1:3]=[]\r\n",
        "print(letters)\r\n",
        "letters[:]=[]\r\n",
        "print(letters)\r\n",
        "a = [\"Keshav\", \"Hari\", \"Sita\", \"Gita\"]\r\n",
        "print(a)\r\n",
        "b = [1,2,3,4]\r\n",
        "print(b)\r\n",
        "c = [a,b] # adding list of data into a list\r\n",
        "print(c)\r\n"
      ],
      "execution_count": null,
      "outputs": [
        {
          "output_type": "stream",
          "text": [
            "[0, 1, 4, 9, 16, 25, 36]\n",
            "0\n",
            "[0, 1, 4, 9, 16, 25, 36]\n",
            "[]\n",
            "[0, 1, 4]\n",
            "[9, 16, 25, 36]\n",
            "[0, 1, 4, 9, 16, 25, 36, 49, 64, 81]\n",
            "[0, 1, 4, 9, 16, 25, 36]\n",
            "[0, 1, 4, 9, 16, 25, 36, 100]\n",
            "8\n",
            "[0, 1, 4, 9, 16, 26, 36, 100]\n",
            "['a', 'c', 'd', 'u']\n",
            "['a', 'e', 'i', 'u']\n",
            "['a', 'u']\n",
            "[]\n",
            "['Keshav', 'Hari', 'Sita', 'Gita']\n",
            "[1, 2, 3, 4]\n",
            "[['Keshav', 'Hari', 'Sita', 'Gita'], [1, 2, 3, 4]]\n"
          ],
          "name": "stdout"
        }
      ]
    },
    {
      "cell_type": "code",
      "metadata": {
        "colab": {
          "base_uri": "https://localhost:8080/"
        },
        "id": "SzqSCR9fsksP",
        "outputId": "40c9f33f-c3c1-47c6-c26c-c7d9e9a48d0f"
      },
      "source": [
        "# Learning Strings\r\n",
        "fName = \"Keshav\"\r\n",
        "space = \" \"\r\n",
        "lname = \"Bhandari\"\r\n",
        "fullName =fName+space+lname # to concatate\r\n",
        "print(fullName)\r\n",
        "print(fName[3]) # to print the character of given place value \r\n",
        "print(len(fName)) # to get the length of string data\r\n",
        "print(fullName[2:6]) # include the begining and exclude the ending place value\r\n",
        "data1 = \"     Hello       Guys!\"\r\n",
        "# newData1 = strip(data1)\r\n",
        "newData1 = data1.strip() # strop() remove any whitespaces at the begining\r\n",
        "print(newData1)\r\n",
        "print(fullName.lower()) # lower() make all the letters in lowercase\r\n",
        "print(fullName.upper()) # upper() make all the letters in uppercase\r\n",
        "print(data1.replace(\"H\", \"#H\")) # to replace the any letters in a string\r\n",
        "print(fullName.split(\" \"))\r\n",
        "skills = \"Teaching,Tutoring,Dancing,Singing,Cricket Playing,Programming,Documentation,Photoshop,Event Management,App Development,Software Development,Web Development\"\r\n",
        "print(skills.split(\",\"))\r\n",
        "\r\n"
      ],
      "execution_count": null,
      "outputs": [
        {
          "output_type": "stream",
          "text": [
            "Keshav Bhandari\n",
            "h\n",
            "6\n",
            "shav\n",
            "Hello       Guys!\n",
            "keshav bhandari\n",
            "KESHAV BHANDARI\n",
            "     #Hello       Guys!\n",
            "['Keshav', 'Bhandari']\n",
            "['Teaching', 'Tutoring', 'Dancing', 'Singing', 'Cricket Playing', 'Programming', 'Documentation', 'Photoshop', 'Event Management', 'App Development', 'Software Development', 'Web Development']\n"
          ],
          "name": "stdout"
        }
      ]
    },
    {
      "cell_type": "code",
      "metadata": {
        "colab": {
          "base_uri": "https://localhost:8080/"
        },
        "id": "-7QDaMDw1DCu",
        "outputId": "c7fc03f3-afe1-490f-ebac-f03d4af0360a"
      },
      "source": [
        "# Type Casting\r\n",
        "x = str(3)    # x will be '3'\r\n",
        "print(x)\r\n",
        "print(type(x))\r\n",
        "y = int(3)    # y will be 3\r\n",
        "print(y)\r\n",
        "print(type(y))\r\n",
        "z = float(3)  # z will be 3.0\r\n",
        "print(z)\r\n",
        "print(type(z))"
      ],
      "execution_count": null,
      "outputs": [
        {
          "output_type": "stream",
          "text": [
            "3\n",
            "<class 'str'>\n",
            "3\n",
            "<class 'int'>\n",
            "3.0\n",
            "<class 'float'>\n"
          ],
          "name": "stdout"
        }
      ]
    },
    {
      "cell_type": "code",
      "metadata": {
        "colab": {
          "base_uri": "https://localhost:8080/"
        },
        "id": "2eCRAGVp0XCg",
        "outputId": "badb456b-1bf8-43ed-e612-f4fe4e749f3d"
      },
      "source": [
        "# Float Data Type\r\n",
        "x = 23.56\r\n",
        "y = 12\r\n",
        "print(x+y)\r\n",
        "print(x-y)\r\n",
        "print(x*y)\r\n",
        "print(x/y)\r\n",
        "print(x%y)"
      ],
      "execution_count": null,
      "outputs": [
        {
          "output_type": "stream",
          "text": [
            "35.56\n",
            "11.559999999999999\n",
            "282.71999999999997\n",
            "1.9633333333333332\n",
            "11.559999999999999\n"
          ],
          "name": "stdout"
        }
      ]
    },
    {
      "cell_type": "code",
      "metadata": {
        "colab": {
          "base_uri": "https://localhost:8080/"
        },
        "id": "h-vYjWBa1Xs7",
        "outputId": "46051727-5940-42a1-b503-c06d0e857409"
      },
      "source": [
        "# Integer Data Type\r\n",
        "x = 5\r\n",
        "y = 10\r\n",
        "print(x+y)\r\n",
        "print(x-y)\r\n",
        "print(x*y)\r\n",
        "print(x/y)\r\n",
        "print(x%y)\r\n",
        "print(type(x)) # to get the which type of data is assigned to the variable\r\n"
      ],
      "execution_count": null,
      "outputs": [
        {
          "output_type": "stream",
          "text": [
            "15\n",
            "-5\n",
            "50\n",
            "0.5\n",
            "5\n",
            "<class 'int'>\n"
          ],
          "name": "stdout"
        }
      ]
    },
    {
      "cell_type": "code",
      "metadata": {
        "colab": {
          "base_uri": "https://localhost:8080/"
        },
        "id": "_jqTlsoR0Vu_",
        "outputId": "a1ae0f95-f23d-4f5b-eb94-4791a0a7d08f"
      },
      "source": [
        "# Starting Python\r\n",
        "print(\"Hello World!\")"
      ],
      "execution_count": null,
      "outputs": [
        {
          "output_type": "stream",
          "text": [
            "Hello World!\n"
          ],
          "name": "stdout"
        }
      ]
    }
  ]
}