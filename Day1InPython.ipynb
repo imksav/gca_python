{
  "nbformat": 4,
  "nbformat_minor": 0,
  "metadata": {
    "colab": {
      "name": "Day1InPython.ipynb",
      "provenance": [],
      "collapsed_sections": [],
      "include_colab_link": true
    },
    "kernelspec": {
      "name": "python3",
      "display_name": "Python 3"
    }
  },
  "cells": [
    {
      "cell_type": "markdown",
      "metadata": {
        "id": "view-in-github",
        "colab_type": "text"
      },
      "source": [
        "<a href=\"https://colab.research.google.com/github/imksav/gca_python/blob/master/Day1InPython.ipynb\" target=\"_parent\"><img src=\"https://colab.research.google.com/assets/colab-badge.svg\" alt=\"Open In Colab\"/></a>"
      ]
    },
    {
      "cell_type": "markdown",
      "metadata": {
        "id": "n9PkxCKyh4rm"
      },
      "source": [
        "## `**First Step towards Programming**`\r\n",
        "\r\n",
        "---\r\n",
        "\r\n",
        "```\r\n",
        "# Fibonacci Series\r\n",
        "```\r\n",
        "\r\n",
        "\r\n",
        "\r\n"
      ]
    },
    {
      "cell_type": "code",
      "metadata": {
        "colab": {
          "base_uri": "https://localhost:8080/"
        },
        "id": "FQQQBTBJgbY3",
        "outputId": "1d8fbd94-510c-40f2-ff02-7e5e7dfc2001"
      },
      "source": [
        "a, b = 0,1\r\n",
        "while a<100:\r\n",
        "  print(a, end=\",\")\r\n",
        "  a,b = b, a+b"
      ],
      "execution_count": 23,
      "outputs": [
        {
          "output_type": "stream",
          "text": [
            "0,1,1,2,3,5,8,13,21,34,55,89,"
          ],
          "name": "stdout"
        }
      ]
    },
    {
      "cell_type": "code",
      "metadata": {
        "id": "Q9jCqP-62kR6",
        "colab": {
          "base_uri": "https://localhost:8080/"
        },
        "outputId": "9c59f420-82a2-4a1a-8b26-d1f4fc38a8d6"
      },
      "source": [
        "# Learning List\r\n",
        "squares = [0,1,4,9,16,25,36]\r\n",
        "print(squares)\r\n",
        "print(squares[0]) # print view\r\n",
        "print(squares[:]) # print view\r\n",
        "print(squares[:0:]) # print view\r\n",
        "print(squares[:-4]) # print view\r\n",
        "print(squares[-4:]) # print view\r\n",
        "print(squares+[49,64,81]) # add data to existing list\r\n",
        "print(squares[:]) # print view\r\n",
        "squares.append(100) # add the data into list\r\n",
        "print(squares)\r\n",
        "print(len(squares)) # printing the length of list\r\n",
        "squares[5]=26\r\n",
        "print(squares)\r\n",
        "letters = ['a','c', 'd', 'u']\r\n",
        "print(letters)\r\n",
        "letters[1:3]=['e','i'] # add data into the given place value in list \r\n",
        "print(letters)\r\n",
        "letters[1:3]=[]\r\n",
        "print(letters)\r\n",
        "letters[:]=[]\r\n",
        "print(letters)\r\n",
        "a = [\"Keshav\", \"Hari\", \"Sita\", \"Gita\"]\r\n",
        "print(a)\r\n",
        "b = [1,2,3,4]\r\n",
        "print(b)\r\n",
        "c = [a,b] # adding list of data into a list\r\n",
        "print(c)\r\n"
      ],
      "execution_count": 15,
      "outputs": [
        {
          "output_type": "stream",
          "text": [
            "[0, 1, 4, 9, 16, 25, 36]\n",
            "0\n",
            "[0, 1, 4, 9, 16, 25, 36]\n",
            "[]\n",
            "[0, 1, 4]\n",
            "[9, 16, 25, 36]\n",
            "[0, 1, 4, 9, 16, 25, 36, 49, 64, 81]\n",
            "[0, 1, 4, 9, 16, 25, 36]\n",
            "[0, 1, 4, 9, 16, 25, 36, 100]\n",
            "8\n",
            "[0, 1, 4, 9, 16, 26, 36, 100]\n",
            "['a', 'c', 'd', 'u']\n",
            "['a', 'e', 'i', 'u']\n",
            "['a', 'u']\n",
            "[]\n",
            "['Keshav', 'Hari', 'Sita', 'Gita']\n",
            "[1, 2, 3, 4]\n",
            "[['Keshav', 'Hari', 'Sita', 'Gita'], [1, 2, 3, 4]]\n"
          ],
          "name": "stdout"
        }
      ]
    },
    {
      "cell_type": "code",
      "metadata": {
        "colab": {
          "base_uri": "https://localhost:8080/"
        },
        "id": "SzqSCR9fsksP",
        "outputId": "40c9f33f-c3c1-47c6-c26c-c7d9e9a48d0f"
      },
      "source": [
        "# Learning Strings\r\n",
        "fName = \"Keshav\"\r\n",
        "space = \" \"\r\n",
        "lname = \"Bhandari\"\r\n",
        "fullName =fName+space+lname # to concatate\r\n",
        "print(fullName)\r\n",
        "print(fName[3]) # to print the character of given place value \r\n",
        "print(len(fName)) # to get the length of string data\r\n",
        "print(fullName[2:6]) # include the begining and exclude the ending place value\r\n",
        "data1 = \"     Hello       Guys!\"\r\n",
        "# newData1 = strip(data1)\r\n",
        "newData1 = data1.strip() # strop() remove any whitespaces at the begining\r\n",
        "print(newData1)\r\n",
        "print(fullName.lower()) # lower() make all the letters in lowercase\r\n",
        "print(fullName.upper()) # upper() make all the letters in uppercase\r\n",
        "print(data1.replace(\"H\", \"#H\")) # to replace the any letters in a string\r\n",
        "print(fullName.split(\" \"))\r\n",
        "skills = \"Teaching,Tutoring,Dancing,Singing,Cricket Playing,Programming,Documentation,Photoshop,Event Management,App Development,Software Development,Web Development\"\r\n",
        "print(skills.split(\",\"))\r\n",
        "\r\n"
      ],
      "execution_count": null,
      "outputs": [
        {
          "output_type": "stream",
          "text": [
            "Keshav Bhandari\n",
            "h\n",
            "6\n",
            "shav\n",
            "Hello       Guys!\n",
            "keshav bhandari\n",
            "KESHAV BHANDARI\n",
            "     #Hello       Guys!\n",
            "['Keshav', 'Bhandari']\n",
            "['Teaching', 'Tutoring', 'Dancing', 'Singing', 'Cricket Playing', 'Programming', 'Documentation', 'Photoshop', 'Event Management', 'App Development', 'Software Development', 'Web Development']\n"
          ],
          "name": "stdout"
        }
      ]
    },
    {
      "cell_type": "code",
      "metadata": {
        "colab": {
          "base_uri": "https://localhost:8080/"
        },
        "id": "-7QDaMDw1DCu",
        "outputId": "c7fc03f3-afe1-490f-ebac-f03d4af0360a"
      },
      "source": [
        "# Type Casting\r\n",
        "x = str(3)    # x will be '3'\r\n",
        "print(x)\r\n",
        "print(type(x))\r\n",
        "y = int(3)    # y will be 3\r\n",
        "print(y)\r\n",
        "print(type(y))\r\n",
        "z = float(3)  # z will be 3.0\r\n",
        "print(z)\r\n",
        "print(type(z))"
      ],
      "execution_count": null,
      "outputs": [
        {
          "output_type": "stream",
          "text": [
            "3\n",
            "<class 'str'>\n",
            "3\n",
            "<class 'int'>\n",
            "3.0\n",
            "<class 'float'>\n"
          ],
          "name": "stdout"
        }
      ]
    },
    {
      "cell_type": "code",
      "metadata": {
        "colab": {
          "base_uri": "https://localhost:8080/"
        },
        "id": "2eCRAGVp0XCg",
        "outputId": "badb456b-1bf8-43ed-e612-f4fe4e749f3d"
      },
      "source": [
        "# Float Data Type\r\n",
        "x = 23.56\r\n",
        "y = 12\r\n",
        "print(x+y)\r\n",
        "print(x-y)\r\n",
        "print(x*y)\r\n",
        "print(x/y)\r\n",
        "print(x%y)"
      ],
      "execution_count": null,
      "outputs": [
        {
          "output_type": "stream",
          "text": [
            "35.56\n",
            "11.559999999999999\n",
            "282.71999999999997\n",
            "1.9633333333333332\n",
            "11.559999999999999\n"
          ],
          "name": "stdout"
        }
      ]
    },
    {
      "cell_type": "code",
      "metadata": {
        "colab": {
          "base_uri": "https://localhost:8080/"
        },
        "id": "h-vYjWBa1Xs7",
        "outputId": "46051727-5940-42a1-b503-c06d0e857409"
      },
      "source": [
        "# Integer Data Type\r\n",
        "x = 5\r\n",
        "y = 10\r\n",
        "print(x+y)\r\n",
        "print(x-y)\r\n",
        "print(x*y)\r\n",
        "print(x/y)\r\n",
        "print(x%y)\r\n",
        "print(type(x)) # to get the which type of data is assigned to the variable\r\n"
      ],
      "execution_count": null,
      "outputs": [
        {
          "output_type": "stream",
          "text": [
            "15\n",
            "-5\n",
            "50\n",
            "0.5\n",
            "5\n",
            "<class 'int'>\n"
          ],
          "name": "stdout"
        }
      ]
    },
    {
      "cell_type": "code",
      "metadata": {
        "colab": {
          "base_uri": "https://localhost:8080/"
        },
        "id": "_jqTlsoR0Vu_",
        "outputId": "a1ae0f95-f23d-4f5b-eb94-4791a0a7d08f"
      },
      "source": [
        "# Starting Python\r\n",
        "print(\"Hello World!\")"
      ],
      "execution_count": null,
      "outputs": [
        {
          "output_type": "stream",
          "text": [
            "Hello World!\n"
          ],
          "name": "stdout"
        }
      ]
    }
  ]
}