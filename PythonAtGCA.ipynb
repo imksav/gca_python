{
  "nbformat": 4,
  "nbformat_minor": 0,
  "metadata": {
    "colab": {
      "name": "PythonAtGCA.ipynb",
      "provenance": [],
      "collapsed_sections": [],
      "include_colab_link": true
    },
    "kernelspec": {
      "name": "python3",
      "display_name": "Python 3"
    }
  },
  "cells": [
    {
      "cell_type": "markdown",
      "metadata": {
        "id": "view-in-github",
        "colab_type": "text"
      },
      "source": [
        "<a href=\"https://colab.research.google.com/github/imksav/gca_python/blob/master/PythonAtGCA.ipynb\" target=\"_parent\"><img src=\"https://colab.research.google.com/assets/colab-badge.svg\" alt=\"Open In Colab\"/></a>"
      ]
    },
    {
      "cell_type": "markdown",
      "metadata": {
        "id": "YpmABp3Z1EGt"
      },
      "source": [
        "==========================New To Python Trainer=========================="
      ]
    },
    {
      "cell_type": "code",
      "metadata": {
        "colab": {
          "base_uri": "https://localhost:8080/"
        },
        "id": "YpZhyMAvGfaA",
        "outputId": "0f1cb4e2-4e22-4fac-867f-06c35e2da9a0"
      },
      "source": [
        "# accessing string\n",
        "str =\"imksav\"\n",
        "for x in str:\n",
        "  print(x)\n",
        "print(\"===========\")\n",
        "print(str[4])\n",
        "print(str[-4])\n",
        "print(str[3:5]) #3 is inclusively and #7 is exclusively\n",
        "print(str)\n",
        "id(str)\n",
        "del(str)\n",
        "print(str)\n",
        "id(str)\n"
      ],
      "execution_count": 47,
      "outputs": [
        {
          "output_type": "stream",
          "text": [
            "i\n",
            "m\n",
            "k\n",
            "s\n",
            "a\n",
            "v\n",
            "===========\n",
            "a\n",
            "k\n",
            "sa\n",
            "imksav\n",
            "<class 'str'>\n"
          ],
          "name": "stdout"
        },
        {
          "output_type": "execute_result",
          "data": {
            "text/plain": [
              "94842768428000"
            ]
          },
          "metadata": {
            "tags": []
          },
          "execution_count": 47
        }
      ]
    },
    {
      "cell_type": "code",
      "metadata": {
        "colab": {
          "base_uri": "https://localhost:8080/"
        },
        "id": "IYBaBKzm7VR6",
        "outputId": "9f89a8d7-eb0d-4a8a-8606-d7c8fd04eef7"
      },
      "source": [
        "# integer number\n",
        "binary = 0b1010 #0b denotes the binary number system\n",
        "print(binary)\n",
        "octal = 0o1756 #0o denotes the octal number system\n",
        "print(octal)\n",
        "hex = 0xABC #0x denotes the hexa-decimal number system\n",
        "print(hex)\n",
        "# floating number\n",
        "print(6.1E-2)\n",
        "print(7.69-2)\n",
        "# String\n",
        "empty = \"\"\n",
        "print(empty)\n",
        "# string doesn't have any limited character\n",
        "# Use of escape sequence(\\)\n",
        "a=5\n",
        "b=6\n",
        "c=a\n",
        "print(c)\n",
        "print(\"1st column\\t2nd column\")\n",
        "print(r\"Hello \\n World\")\n",
        "print(\"Hello \\\\n World\")"
      ],
      "execution_count": 20,
      "outputs": [
        {
          "output_type": "stream",
          "text": [
            "10\n",
            "1006\n",
            "2748\n",
            "0.061\n",
            "5.69\n",
            "\n",
            "5\n",
            "1st column\t2nd column\n",
            "Hello \\n World\n",
            "Hello \\n World\n"
          ],
          "name": "stdout"
        }
      ]
    },
    {
      "cell_type": "markdown",
      "metadata": {
        "id": "8Bpp7KFw7Pf8"
      },
      "source": [
        "\n",
        "==========================Old To Python Trainer=========================="
      ]
    },
    {
      "cell_type": "markdown",
      "metadata": {
        "id": "V0Kt730Pfhna"
      },
      "source": [
        "**Functions**"
      ]
    },
    {
      "cell_type": "code",
      "metadata": {
        "id": "X29p9HjUfkLw"
      },
      "source": [
        "def multiplication():\n",
        "  for i in range(1,11):\n",
        "    for j in range(1,11):\n",
        "      print(i*j,\"\\t\",end=\" \")\n",
        "    print()\n"
      ],
      "execution_count": null,
      "outputs": []
    },
    {
      "cell_type": "code",
      "metadata": {
        "colab": {
          "base_uri": "https://localhost:8080/"
        },
        "id": "uEi2oDY8hIdO",
        "outputId": "736439e6-8150-4dee-f5f5-9520d0d9c67f"
      },
      "source": [
        "multiplication()"
      ],
      "execution_count": null,
      "outputs": [
        {
          "output_type": "stream",
          "text": [
            "1 \t 2 \t 3 \t 4 \t 5 \t 6 \t 7 \t 8 \t 9 \t 10 \t \n",
            "2 \t 4 \t 6 \t 8 \t 10 \t 12 \t 14 \t 16 \t 18 \t 20 \t \n",
            "3 \t 6 \t 9 \t 12 \t 15 \t 18 \t 21 \t 24 \t 27 \t 30 \t \n",
            "4 \t 8 \t 12 \t 16 \t 20 \t 24 \t 28 \t 32 \t 36 \t 40 \t \n",
            "5 \t 10 \t 15 \t 20 \t 25 \t 30 \t 35 \t 40 \t 45 \t 50 \t \n",
            "6 \t 12 \t 18 \t 24 \t 30 \t 36 \t 42 \t 48 \t 54 \t 60 \t \n",
            "7 \t 14 \t 21 \t 28 \t 35 \t 42 \t 49 \t 56 \t 63 \t 70 \t \n",
            "8 \t 16 \t 24 \t 32 \t 40 \t 48 \t 56 \t 64 \t 72 \t 80 \t \n",
            "9 \t 18 \t 27 \t 36 \t 45 \t 54 \t 63 \t 72 \t 81 \t 90 \t \n",
            "10 \t 20 \t 30 \t 40 \t 50 \t 60 \t 70 \t 80 \t 90 \t 100 \t \n"
          ],
          "name": "stdout"
        }
      ]
    },
    {
      "cell_type": "markdown",
      "metadata": {
        "id": "auIUcn8ALZet"
      },
      "source": [
        "**Loops**"
      ]
    },
    {
      "cell_type": "code",
      "metadata": {
        "colab": {
          "base_uri": "https://localhost:8080/"
        },
        "id": "oycZmcThXPuC",
        "outputId": "511b629f-9f85-4509-c25b-46c3f551388f"
      },
      "source": [
        "# More in Loop\n",
        "for i in range(2,10):\n",
        "  for x in range(2,i):\n",
        "    if i % x == 0:\n",
        "      print(i, \"equals\", x,\"*\",i//x)\n",
        "      break;\n",
        "  else:\n",
        "      print(i,\"is a prime number.\")"
      ],
      "execution_count": null,
      "outputs": [
        {
          "output_type": "stream",
          "text": [
            "2 is a prime number.\n",
            "3 is a prime number.\n",
            "4 equals 2 * 2\n",
            "5 is a prime number.\n",
            "6 equals 2 * 3\n",
            "7 is a prime number.\n",
            "8 equals 2 * 4\n",
            "9 equals 3 * 3\n"
          ],
          "name": "stdout"
        }
      ]
    },
    {
      "cell_type": "code",
      "metadata": {
        "colab": {
          "base_uri": "https://localhost:8080/"
        },
        "id": "4pAlpToGUre-",
        "outputId": "fb5a59dd-fd39-45bd-c6bc-26c2a7c44699"
      },
      "source": [
        "words = ['I','am','Keshav','Bhandari']\n",
        "for i in range(len(words)):\n",
        "  print(i,words[i])"
      ],
      "execution_count": null,
      "outputs": [
        {
          "output_type": "stream",
          "text": [
            "0 I\n",
            "1 am\n",
            "2 Keshav\n",
            "3 Bhandari\n"
          ],
          "name": "stdout"
        }
      ]
    },
    {
      "cell_type": "code",
      "metadata": {
        "colab": {
          "base_uri": "https://localhost:8080/"
        },
        "id": "rOizqfs7LdH0",
        "outputId": "c3265f9c-10fa-47f0-b5ed-bd5a558b6e77"
      },
      "source": [
        "# For Loop\n",
        "name = str(input(\"Enter your name:\"))\n",
        "for names in name:\n",
        "  print(names)\n",
        "  print(name)"
      ],
      "execution_count": null,
      "outputs": [
        {
          "output_type": "stream",
          "text": [
            "Enter your name:Keshav\n",
            "K\n",
            "Keshav\n",
            "e\n",
            "Keshav\n",
            "s\n",
            "Keshav\n",
            "h\n",
            "Keshav\n",
            "a\n",
            "Keshav\n",
            "v\n",
            "Keshav\n"
          ],
          "name": "stdout"
        }
      ]
    },
    {
      "cell_type": "markdown",
      "metadata": {
        "id": "iNqLbOoII4Bf"
      },
      "source": [
        "**Decision Making**"
      ]
    },
    {
      "cell_type": "code",
      "metadata": {
        "colab": {
          "base_uri": "https://localhost:8080/"
        },
        "id": "55jNDBirJATL",
        "outputId": "702e9a00-257b-4d41-e2fd-c9ee14c679c3"
      },
      "source": [
        "# if....else......\n",
        "age = int(input(\"Enter your age:\"))\n",
        "if age>=18:\n",
        "  print(\"You are voter.\")\n",
        "else:\n",
        "  print(\"You aren't voter.\")\n",
        "# if...elif.....\n",
        "per = float(input(\"Enter your percentage:\"))\n",
        "if per>=90:\n",
        "  print(\"A+\")\n",
        "elif per>=80:\n",
        "  print(\"A\")\n",
        "elif per>=70:\n",
        "  print(\"B+\")\n",
        "elif per>=60:\n",
        "  print(\"B\")\n",
        "elif per>=50:\n",
        "  print(\"C+\")\n",
        "elif per>=40:\n",
        "  print(\"C\")\n",
        "elif per>=30:\n",
        "  print(\"D+\")\n",
        "elif per>=20:\n",
        "  print(\"D\")\n",
        "elif per>=10:\n",
        "  print(\"E\")\n",
        "elif per>0:\n",
        "  print(\"F\")\n",
        "elif per==0:\n",
        "  print(\"N/A\")"
      ],
      "execution_count": null,
      "outputs": [
        {
          "output_type": "stream",
          "text": [
            "Enter your age:22\n",
            "You are voter.\n",
            "Enter your percentage:65\n",
            "B\n"
          ],
          "name": "stdout"
        }
      ]
    },
    {
      "cell_type": "markdown",
      "metadata": {
        "id": "Yd_kxX_95hur"
      },
      "source": [
        "**Dictionaries**"
      ]
    },
    {
      "cell_type": "markdown",
      "metadata": {
        "id": "4WOkDYWxMi47"
      },
      "source": [
        "**Practice of Dictonary**"
      ]
    },
    {
      "cell_type": "code",
      "metadata": {
        "id": "P9g5Q7F5MvWC",
        "colab": {
          "base_uri": "https://localhost:8080/"
        },
        "outputId": "806b7c34-876c-4456-9902-862871ae29aa"
      },
      "source": [
        "# Practice of Dictonary\n",
        "subjects = {\"Nepali\":\"Kapil Raya\", \"English\":\"Diwas Thami\", \"Computer\":\"Keshav Bhandari\"}\n",
        "print(subjects)\n",
        "for k,v in subjects.items():\n",
        "  print(k,\"==>\",v)\n",
        "for i,v in enumerate(['Apple', \"Ball\", \"Cat\"]):\n",
        "  print(i+1s,\"==>\",v)"
      ],
      "execution_count": null,
      "outputs": [
        {
          "output_type": "stream",
          "text": [
            "{'Nepali': 'Kapil Raya', 'English': 'Diwas Thami', 'Computer': 'Keshav Bhandari'}\n",
            "Nepali ==> Kapil Raya\n",
            "English ==> Diwas Thami\n",
            "Computer ==> Keshav Bhandari\n",
            "1 ==> Apple\n",
            "2 ==> Ball\n",
            "3 ==> Cat\n"
          ],
          "name": "stdout"
        }
      ]
    },
    {
      "cell_type": "code",
      "metadata": {
        "colab": {
          "base_uri": "https://localhost:8080/"
        },
        "id": "oFaeRfb3KLMl",
        "outputId": "921c4d33-af0e-4013-ec65-028190a1910c"
      },
      "source": [
        "# More of Dict\n",
        "dict1 = {\n",
        "    \"name\": \"Keshav Bhandari\",\n",
        "    \"email\": \"imksav@gmail.com\",\n",
        "    \"age\": 21\n",
        "}\n",
        "print(dict1)\n",
        "# Use of zip\n",
        "questions = [\"name\", \"email\", \"age\"]\n",
        "answers = [\"Keshav Bhandari\", \"imksav@gmail.com\", 21]\n",
        "for q,a in zip(questions, answers):\n",
        "  print(\"What is your {0}?\\nMy {0} is {1}.\".format(q,a))"
      ],
      "execution_count": null,
      "outputs": [
        {
          "output_type": "stream",
          "text": [
            "{'name': 'Keshav Bhandari', 'email': 'imksav@gmail.com', 'age': 21}\n",
            "What is your name?\n",
            "My name is Keshav Bhandari.\n",
            "What is your email?\n",
            "My email is imksav@gmail.com.\n",
            "What is your age?\n",
            "My age is 21.\n"
          ],
          "name": "stdout"
        }
      ]
    },
    {
      "cell_type": "code",
      "metadata": {
        "colab": {
          "base_uri": "https://localhost:8080/"
        },
        "id": "9_nYGfEY5sFQ",
        "outputId": "32189787-4c67-49cd-d2a4-90b5cee9c676"
      },
      "source": [
        "# Use of Dict\n",
        "myDict = {\n",
        "    \"fName\": \"Keshav\",\n",
        "    \"lName\": \"Bhandari\",\n",
        "    \"age\": \"21\",\n",
        "    \"education\": \"Bachelor in Computer Science - Information Technology\",\n",
        "    \"college\": \"Sunway International Business School\"\n",
        "}\n",
        "print(myDict)\n",
        "print(\"My name is \"+myDict[\"fName\"]+\" \"+myDict[\"lName\"]+\".\\nI'm \"+myDict[\"age\"]+\" years old.\\nI'm studying \"+myDict[\"education\"]+\" at \"+myDict[\"college\"]+\".\")\n",
        "print(\"==========================\")\n",
        "print(\"My name is \"+myDict.get(\"fName\")+\" \"+myDict.get(\"lName\")+\".\\nI'm \"+myDict.get(\"age\")+\" years old.\\nI'm studying \"+myDict.get(\"education\")+\" at \"+myDict.get(\"college\")+\".\")\n",
        "print(\"==========================\")\n",
        "for x in myDict:\n",
        "  print(x)\n",
        "print(\"==========================\")\n",
        "for x in myDict:\n",
        "  print(myDict[x])\n",
        "print(\"==========================\")\n",
        "for x in myDict.values():\n",
        "  print(x)\n",
        "print(\"==========================\")\n",
        "for x, y in myDict.items():\n",
        "  # print(x,y)\n",
        "  print(x+\": \"+y)"
      ],
      "execution_count": null,
      "outputs": [
        {
          "output_type": "stream",
          "text": [
            "{'fName': 'Keshav', 'lName': 'Bhandari', 'age': '21', 'education': 'Bachelor in Computer Science - Information Technology', 'college': 'Sunway International Business School'}\n",
            "My name is Keshav Bhandari.\n",
            "I'm 21 years old.\n",
            "I'm studying Bachelor in Computer Science - Information Technology at Sunway International Business School.\n",
            "==========================\n",
            "My name is Keshav Bhandari.\n",
            "I'm 21 years old.\n",
            "I'm studying Bachelor in Computer Science - Information Technology at Sunway International Business School.\n",
            "==========================\n",
            "fName\n",
            "lName\n",
            "age\n",
            "education\n",
            "college\n",
            "==========================\n",
            "Keshav\n",
            "Bhandari\n",
            "21\n",
            "Bachelor in Computer Science - Information Technology\n",
            "Sunway International Business School\n",
            "==========================\n",
            "Keshav\n",
            "Bhandari\n",
            "21\n",
            "Bachelor in Computer Science - Information Technology\n",
            "Sunway International Business School\n",
            "==========================\n",
            "fName: Keshav\n",
            "lName: Bhandari\n",
            "age: 21\n",
            "education: Bachelor in Computer Science - Information Technology\n",
            "college: Sunway International Business School\n"
          ],
          "name": "stdout"
        }
      ]
    },
    {
      "cell_type": "code",
      "metadata": {
        "colab": {
          "base_uri": "https://localhost:8080/"
        },
        "id": "5fBBciVFVwq3",
        "outputId": "b89b6e4e-67e9-4f88-edf3-e89d1e902a8f"
      },
      "source": [
        "# More of Set\n",
        "set1 = {1,3,5,7,9}\n",
        "set2 = {2,4,6,8,10}\n",
        "print(set1.union(set2))\n",
        "# set1.update(set2)\n",
        "set1.update(set2)\n",
        "print(set1)\n",
        "intersectionSet = set1.intersection(set2)\n",
        "print(intersectionSet)\n",
        "differenceSet = set1.difference(set2)\n",
        "print(differenceSet)\n",
        "print(\"================\")\n",
        "print(set1)\n",
        "print(set2)\n",
        "print(set1-set2)\n",
        "print(set2-set1)\n",
        "print(set1 | set2)\n",
        "print(set1 & set2)\n",
        "print(set1 ^ set2)\n",
        "print(set2 ^ set1)"
      ],
      "execution_count": null,
      "outputs": [
        {
          "output_type": "stream",
          "text": [
            "{1, 2, 3, 4, 5, 6, 7, 8, 9, 10}\n",
            "{1, 2, 3, 4, 5, 6, 7, 8, 9, 10}\n",
            "{2, 4, 6, 8, 10}\n",
            "{1, 3, 5, 7, 9}\n",
            "================\n",
            "{1, 2, 3, 4, 5, 6, 7, 8, 9, 10}\n",
            "{2, 4, 6, 8, 10}\n",
            "{1, 3, 5, 7, 9}\n",
            "set()\n",
            "{1, 2, 3, 4, 5, 6, 7, 8, 9, 10}\n",
            "{2, 4, 6, 8, 10}\n",
            "{1, 3, 5, 7, 9}\n",
            "{1, 3, 5, 7, 9}\n"
          ],
          "name": "stdout"
        }
      ]
    },
    {
      "cell_type": "code",
      "metadata": {
        "colab": {
          "base_uri": "https://localhost:8080/"
        },
        "id": "ZTgqfg93Tyoy",
        "outputId": "541013d4-6cc7-495e-a62f-272b58c56f98"
      },
      "source": [
        "# Set\n",
        "mySet = {1,5,9,3,7}\n",
        "print(mySet)\n",
        "print(5 in mySet)\n",
        "print(10 in mySet)\n",
        "mySet.add(11)\n",
        "print(mySet)\n",
        "mySet.update({13,15})\n",
        "print(mySet)\n",
        "mySet.remove(5)\n",
        "print(mySet)\n",
        "# mySet.remove(5) gives error but\n",
        "mySet.discard(5) # doesn't give error\n",
        "print(mySet)\n",
        "mySet.pop() # starts from begining rather than last indexing\n",
        "print(\"###########\")\n",
        "mySet.clear()\n",
        "print(mySet)\n",
        "\n"
      ],
      "execution_count": null,
      "outputs": [
        {
          "output_type": "stream",
          "text": [
            "{1, 3, 5, 7, 9}\n",
            "True\n",
            "False\n",
            "{1, 3, 5, 7, 9, 11}\n",
            "{1, 3, 5, 7, 9, 11, 13, 15}\n",
            "{1, 3, 7, 9, 11, 13, 15}\n",
            "{1, 3, 7, 9, 11, 13, 15}\n",
            "###########\n",
            "set()\n"
          ],
          "name": "stdout"
        }
      ]
    },
    {
      "cell_type": "code",
      "metadata": {
        "colab": {
          "base_uri": "https://localhost:8080/"
        },
        "id": "HwokKnJZR7sl",
        "outputId": "1515316a-e93a-4bf0-e79d-3aa5d1c7cd30"
      },
      "source": [
        "# Tuple\n",
        "myTuple = (1,6,9,7,2)\n",
        "print(myTuple)\n",
        "if 10 in myTuple:\n",
        "  print(\"Yes Found\")\n",
        "else:\n",
        "  print(\"Not Found\")\n",
        "print(9 in myTuple)\n",
        "print(10 in myTuple)"
      ],
      "execution_count": null,
      "outputs": [
        {
          "output_type": "stream",
          "text": [
            "(1, 6, 9, 7, 2)\n",
            "Not Found\n",
            "True\n",
            "False\n"
          ],
          "name": "stdout"
        }
      ]
    },
    {
      "cell_type": "code",
      "metadata": {
        "colab": {
          "base_uri": "https://localhost:8080/"
        },
        "id": "Ew5aVbTDQEdd",
        "outputId": "4e18acbb-6089-473e-edc8-fef26c7aca2e"
      },
      "source": [
        "# stack\n",
        "stack = [1,5,9,7]\n",
        "stack.append(3)\n",
        "print(stack)\n",
        "stack.reverse()\n",
        "print(stack)\n",
        "stack.pop()\n",
        "stack.pop()\n",
        "print(stack)\n",
        "# explore more yourself"
      ],
      "execution_count": null,
      "outputs": [
        {
          "output_type": "stream",
          "text": [
            "[1, 5, 9, 7, 3]\n",
            "[3, 7, 9, 5, 1]\n",
            "[3, 7, 9]\n"
          ],
          "name": "stdout"
        }
      ]
    },
    {
      "cell_type": "code",
      "metadata": {
        "colab": {
          "base_uri": "https://localhost:8080/"
        },
        "id": "3Ryxm2XRp55B",
        "outputId": "6b98038b-a9fc-4c6e-dc56-8655f99c6f1c"
      },
      "source": [
        "# WAP to accept inut from the user and check whether the input is positive or negative or zero.\n",
        "number = int(input(\"Enter a number: \"))\n",
        "if(number > 0):\n",
        "  print(\"positive\")\n",
        "elif(number<0):\n",
        "  print(\"Negative\")\n",
        "else:\n",
        "  print(\"Zero\")    "
      ],
      "execution_count": null,
      "outputs": [
        {
          "output_type": "stream",
          "text": [
            "Enter a number: 0\n",
            "Zero\n"
          ],
          "name": "stdout"
        }
      ]
    },
    {
      "cell_type": "markdown",
      "metadata": {
        "id": "RZgstJCOlpxU"
      },
      "source": [
        "**Loop Through List**\n",
        "\n",
        "---\n",
        "\n",
        "\n"
      ]
    },
    {
      "cell_type": "code",
      "metadata": {
        "colab": {
          "base_uri": "https://localhost:8080/",
          "height": 338
        },
        "id": "tjVsnaL9l3Ix",
        "outputId": "5335c845-b955-456a-e264-07dc39d54d11"
      },
      "source": [
        "myList = [\"Apple\", \"Ball\", \"Cat\"]\n",
        "print(myList)\n",
        "for x in myList:\n",
        "  print(x)\n",
        "print(myList[1])\n",
        "# use of range\n",
        "for i in range(3,32,7):\n",
        "  print(i)\n",
        "# check item from user input\n",
        "fruits = [\"Apple\", \"Banana\", \"Mango\", \"Apple\", \"Banana\"]\n",
        "fruit = input(\"Enter name of fruits:\")\n",
        "if fruit in fruits:\n",
        "  print(fruit+ \" is found\")\n",
        "else:\n",
        "  print(\"Not found\")\n",
        "print(fruits.count(\"Apple\")) # to count the data in a list\n",
        "print(fruits.index(\"Banana\")) # place value of data in a list\n",
        "print(fruits.index(\"Banana\", 3))\n",
        "fruits.append(\"Orange\")\n",
        "print(fruits)\n",
        "fruits.reverse()\n",
        "print(fruits)\n",
        "fruits.sort()\n",
        "print(fruits)\n",
        "fruits.pop()\n"
      ],
      "execution_count": null,
      "outputs": [
        {
          "output_type": "stream",
          "text": [
            "['Apple', 'Ball', 'Cat']\n",
            "Apple\n",
            "Ball\n",
            "Cat\n",
            "Ball\n",
            "3\n",
            "10\n",
            "17\n",
            "24\n",
            "31\n",
            "Enter name of fruits:Orange\n",
            "Not found\n",
            "2\n",
            "1\n",
            "4\n",
            "['Apple', 'Banana', 'Mango', 'Apple', 'Banana', 'Orange']\n",
            "['Orange', 'Banana', 'Apple', 'Mango', 'Banana', 'Apple']\n",
            "['Apple', 'Apple', 'Banana', 'Banana', 'Mango', 'Orange']\n"
          ],
          "name": "stdout"
        },
        {
          "output_type": "execute_result",
          "data": {
            "application/vnd.google.colaboratory.intrinsic+json": {
              "type": "string"
            },
            "text/plain": [
              "'Orange'"
            ]
          },
          "metadata": {
            "tags": []
          },
          "execution_count": 36
        }
      ]
    },
    {
      "cell_type": "markdown",
      "metadata": {
        "id": "n9PkxCKyh4rm"
      },
      "source": [
        "**First Step towards Programming**\n",
        "\n",
        "---\n",
        "\n",
        "```\n",
        "# Fibonacci Series\n",
        "```\n",
        "\n",
        "\n",
        "\n"
      ]
    },
    {
      "cell_type": "code",
      "metadata": {
        "colab": {
          "base_uri": "https://localhost:8080/"
        },
        "id": "FQQQBTBJgbY3",
        "outputId": "1d8fbd94-510c-40f2-ff02-7e5e7dfc2001"
      },
      "source": [
        "a, b = 0,1\n",
        "while a<100:\n",
        "  print(a, end=\",\")\n",
        "  a,b = b, a+b"
      ],
      "execution_count": null,
      "outputs": [
        {
          "output_type": "stream",
          "text": [
            "0,1,1,2,3,5,8,13,21,34,55,89,"
          ],
          "name": "stdout"
        }
      ]
    },
    {
      "cell_type": "code",
      "metadata": {
        "id": "Q9jCqP-62kR6",
        "colab": {
          "base_uri": "https://localhost:8080/"
        },
        "outputId": "9c59f420-82a2-4a1a-8b26-d1f4fc38a8d6"
      },
      "source": [
        "# Learning List\n",
        "squares = [0,1,4,9,16,25,36]\n",
        "print(squares)\n",
        "print(squares[0]) # print view\n",
        "print(squares[:]) # print view\n",
        "print(squares[:0:]) # print view\n",
        "print(squares[:-4]) # print view\n",
        "print(squares[-4:]) # print view\n",
        "print(squares+[49,64,81]) # add data to existing list\n",
        "print(squares[:]) # print view\n",
        "squares.append(100) # add the data into list\n",
        "print(squares)\n",
        "print(len(squares)) # printing the length of list\n",
        "squares[5]=26\n",
        "print(squares)\n",
        "letters = ['a','c', 'd', 'u']\n",
        "print(letters)\n",
        "letters[1:3]=['e','i'] # add data into the given place value in list \n",
        "print(letters)\n",
        "letters[1:3]=[]\n",
        "print(letters)\n",
        "letters[:]=[]\n",
        "print(letters)\n",
        "a = [\"Keshav\", \"Hari\", \"Sita\", \"Gita\"]\n",
        "print(a)\n",
        "b = [1,2,3,4]\n",
        "print(b)\n",
        "c = [a,b] # adding list of data into a list\n",
        "print(c)\n"
      ],
      "execution_count": null,
      "outputs": [
        {
          "output_type": "stream",
          "text": [
            "[0, 1, 4, 9, 16, 25, 36]\n",
            "0\n",
            "[0, 1, 4, 9, 16, 25, 36]\n",
            "[]\n",
            "[0, 1, 4]\n",
            "[9, 16, 25, 36]\n",
            "[0, 1, 4, 9, 16, 25, 36, 49, 64, 81]\n",
            "[0, 1, 4, 9, 16, 25, 36]\n",
            "[0, 1, 4, 9, 16, 25, 36, 100]\n",
            "8\n",
            "[0, 1, 4, 9, 16, 26, 36, 100]\n",
            "['a', 'c', 'd', 'u']\n",
            "['a', 'e', 'i', 'u']\n",
            "['a', 'u']\n",
            "[]\n",
            "['Keshav', 'Hari', 'Sita', 'Gita']\n",
            "[1, 2, 3, 4]\n",
            "[['Keshav', 'Hari', 'Sita', 'Gita'], [1, 2, 3, 4]]\n"
          ],
          "name": "stdout"
        }
      ]
    },
    {
      "cell_type": "code",
      "metadata": {
        "colab": {
          "base_uri": "https://localhost:8080/"
        },
        "id": "SzqSCR9fsksP",
        "outputId": "40c9f33f-c3c1-47c6-c26c-c7d9e9a48d0f"
      },
      "source": [
        "# Learning Strings\n",
        "fName = \"Keshav\"\n",
        "space = \" \"\n",
        "lname = \"Bhandari\"\n",
        "fullName =fName+space+lname # to concatate\n",
        "print(fullName)\n",
        "print(fName[3]) # to print the character of given place value \n",
        "print(len(fName)) # to get the length of string data\n",
        "print(fullName[2:6]) # include the begining and exclude the ending place value\n",
        "data1 = \"     Hello       Guys!\"\n",
        "# newData1 = strip(data1)\n",
        "newData1 = data1.strip() # strop() remove any whitespaces at the begining\n",
        "print(newData1)\n",
        "print(fullName.lower()) # lower() make all the letters in lowercase\n",
        "print(fullName.upper()) # upper() make all the letters in uppercase\n",
        "print(data1.replace(\"H\", \"#H\")) # to replace the any letters in a string\n",
        "print(fullName.split(\" \"))\n",
        "skills = \"Teaching,Tutoring,Dancing,Singing,Cricket Playing,Programming,Documentation,Photoshop,Event Management,App Development,Software Development,Web Development\"\n",
        "print(skills.split(\",\"))\n",
        "\n"
      ],
      "execution_count": null,
      "outputs": [
        {
          "output_type": "stream",
          "text": [
            "Keshav Bhandari\n",
            "h\n",
            "6\n",
            "shav\n",
            "Hello       Guys!\n",
            "keshav bhandari\n",
            "KESHAV BHANDARI\n",
            "     #Hello       Guys!\n",
            "['Keshav', 'Bhandari']\n",
            "['Teaching', 'Tutoring', 'Dancing', 'Singing', 'Cricket Playing', 'Programming', 'Documentation', 'Photoshop', 'Event Management', 'App Development', 'Software Development', 'Web Development']\n"
          ],
          "name": "stdout"
        }
      ]
    },
    {
      "cell_type": "code",
      "metadata": {
        "colab": {
          "base_uri": "https://localhost:8080/"
        },
        "id": "-7QDaMDw1DCu",
        "outputId": "c7fc03f3-afe1-490f-ebac-f03d4af0360a"
      },
      "source": [
        "# Type Casting\n",
        "x = str(3)    # x will be '3'\n",
        "print(x)\n",
        "print(type(x))\n",
        "y = int(3)    # y will be 3\n",
        "print(y)\n",
        "print(type(y))\n",
        "z = float(3)  # z will be 3.0\n",
        "print(z)\n",
        "print(type(z))"
      ],
      "execution_count": null,
      "outputs": [
        {
          "output_type": "stream",
          "text": [
            "3\n",
            "<class 'str'>\n",
            "3\n",
            "<class 'int'>\n",
            "3.0\n",
            "<class 'float'>\n"
          ],
          "name": "stdout"
        }
      ]
    },
    {
      "cell_type": "code",
      "metadata": {
        "colab": {
          "base_uri": "https://localhost:8080/"
        },
        "id": "2eCRAGVp0XCg",
        "outputId": "badb456b-1bf8-43ed-e612-f4fe4e749f3d"
      },
      "source": [
        "# Float Data Type\n",
        "x = 23.56\n",
        "y = 12\n",
        "print(x+y)\n",
        "print(x-y)\n",
        "print(x*y)\n",
        "print(x/y)\n",
        "print(x%y)"
      ],
      "execution_count": null,
      "outputs": [
        {
          "output_type": "stream",
          "text": [
            "35.56\n",
            "11.559999999999999\n",
            "282.71999999999997\n",
            "1.9633333333333332\n",
            "11.559999999999999\n"
          ],
          "name": "stdout"
        }
      ]
    },
    {
      "cell_type": "code",
      "metadata": {
        "colab": {
          "base_uri": "https://localhost:8080/"
        },
        "id": "h-vYjWBa1Xs7",
        "outputId": "46051727-5940-42a1-b503-c06d0e857409"
      },
      "source": [
        "# Integer Data Type\n",
        "x = 5\n",
        "y = 10\n",
        "print(x+y)\n",
        "print(x-y)\n",
        "print(x*y)\n",
        "print(x/y)\n",
        "print(x%y)\n",
        "print(type(x)) # to get the which type of data is assigned to the variable\n"
      ],
      "execution_count": null,
      "outputs": [
        {
          "output_type": "stream",
          "text": [
            "15\n",
            "-5\n",
            "50\n",
            "0.5\n",
            "5\n",
            "<class 'int'>\n"
          ],
          "name": "stdout"
        }
      ]
    },
    {
      "cell_type": "code",
      "metadata": {
        "colab": {
          "base_uri": "https://localhost:8080/"
        },
        "id": "_jqTlsoR0Vu_",
        "outputId": "a1ae0f95-f23d-4f5b-eb94-4791a0a7d08f"
      },
      "source": [
        "# Starting Python\n",
        "print(\"Hello World!\")"
      ],
      "execution_count": null,
      "outputs": [
        {
          "output_type": "stream",
          "text": [
            "Hello World!\n"
          ],
          "name": "stdout"
        }
      ]
    }
  ]
}